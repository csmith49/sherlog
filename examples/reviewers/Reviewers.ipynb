{
 "cells": [
  {
   "cell_type": "code",
   "execution_count": 1,
   "id": "dbecd08a",
   "metadata": {},
   "outputs": [],
   "source": [
    "import torch\n",
    "from itertools import chain\n",
    "import pyro.distributions as dist\n",
    "import pyro\n",
    "from pyro import poutine\n",
    "import numpy as np\n",
    "from itertools import chain\n",
    "import pdb\n",
    "from pmextract import extract"
   ]
  },
  {
   "cell_type": "code",
   "execution_count": 2,
   "id": "0373a896",
   "metadata": {},
   "outputs": [],
   "source": [
    "from sherlog.program import loads\n",
    "from sherlog.inference import minibatch, FunctionalEmbedding, Optimizer\n",
    "from sherlog.interface import print, initialize, minotaur"
   ]
  },
  {
   "cell_type": "code",
   "execution_count": 3,
   "id": "1a518aa7",
   "metadata": {},
   "outputs": [],
   "source": [
    "initialize(port=8008, instrumentation=None)"
   ]
  },
  {
   "cell_type": "code",
   "execution_count": 4,
   "id": "3532e08d",
   "metadata": {},
   "outputs": [],
   "source": [
    "embedder = FunctionalEmbedding(evidence=lambda s: s)"
   ]
  },
  {
   "cell_type": "code",
   "execution_count": 5,
   "id": "6a99e641",
   "metadata": {},
   "outputs": [],
   "source": [
    "NTOPICS = 1\n",
    "NJUDGES = 2\n",
    "JUDGES_PER_PAPER = 1\n",
    "NDOCS = 2"
   ]
  },
  {
   "cell_type": "code",
   "execution_count": 6,
   "id": "dff9d005",
   "metadata": {},
   "outputs": [],
   "source": [
    "topics = torch.randint(0, NTOPICS, (NDOCS,))"
   ]
  },
  {
   "cell_type": "code",
   "execution_count": 7,
   "id": "b0f53bb2",
   "metadata": {},
   "outputs": [],
   "source": [
    "judges = torch.tensor(np.array([\n",
    "    np.random.choice(NJUDGES, JUDGES_PER_PAPER, replace=False) for _ in range(NDOCS)\n",
    "])).long()"
   ]
  },
  {
   "cell_type": "code",
   "execution_count": 8,
   "id": "b712b414",
   "metadata": {},
   "outputs": [
    {
     "data": {
      "text/plain": [
       "torch.Size([2, 1])"
      ]
     },
     "execution_count": 8,
     "metadata": {},
     "output_type": "execute_result"
    }
   ],
   "source": [
    "judges.shape"
   ]
  },
  {
   "cell_type": "code",
   "execution_count": 9,
   "id": "73d34db6",
   "metadata": {},
   "outputs": [
    {
     "data": {
      "text/plain": [
       "torch.Size([2])"
      ]
     },
     "execution_count": 9,
     "metadata": {},
     "output_type": "execute_result"
    }
   ],
   "source": [
    "topics.shape"
   ]
  },
  {
   "cell_type": "code",
   "execution_count": 10,
   "id": "10ce1b34",
   "metadata": {},
   "outputs": [],
   "source": [
    "yesno = [\"yes\", \"no\"]"
   ]
  },
  {
   "cell_type": "code",
   "execution_count": 19,
   "id": "18fe3c16",
   "metadata": {},
   "outputs": [],
   "source": [
    "def model():\n",
    "    with pyro.plate(\"judges\", NJUDGES):\n",
    "        threshold = pyro.sample(\"threshold\", dist.Normal(4, 0.5))\n",
    "        with pyro.plate(\"topics\", NTOPICS):\n",
    "            expertise = pyro.sample(\"expertise\", dist.Gamma(1., 1.))\n",
    "    with pyro.plate(\"papers\", NDOCS) as papers:\n",
    "        with poutine.block():\n",
    "            quality = pyro.sample(\"quality\", dist.Normal(2.5, 1.0))\n",
    "        with pyro.plate(\"paperjudge\", 3) as paperjudge:\n",
    "            paper_expertise = torch.gather(expertise[topics, :], 0, judges.long())\n",
    "            score_dist = dist.Normal(quality.float(), paper_expertise.T)\n",
    "            meetsThresh = pyro.sample(\"meetsThresh\", dist.Bernoulli(probs = 1 - score_dist.cdf(threshold[judges].T))).long()\n",
    "            obs = [f\"meets_thresh({p}, {j}, {yesno[meetsThresh[j, p]]})\" for p in papers for j in paperjudge]\n",
    "    \n",
    "    params = [f\"!parameter paperQuality{i} : real\" for i in range(NDOCS)]\n",
    "    params.extend([f\"!parameter judgeThreshold{i} : real\" for i in range(NJUDGES)])\n",
    "    params.extend([f\"!parameter judgeExpertise{j}_{t} : real\" for j in range(NJUDGES) for t in range(NTOPICS)])\n",
    "    data = list(chain.from_iterable((f\"judged({j}, {p})\" for (j,p) in enumerate(judges[:,i])) for i in range(JUDGES_PER_PAPER)))\n",
    "    data.extend([f\"hasTopic({p}, {t})\" for p, t in enumerate(topics)])\n",
    "    data.extend([f\"judge_expertise({j}, {t}, judgeExpertise{j}_{t})\" for j in range(NJUDGES) for t in range(NTOPICS)])\n",
    "    data.extend([f\"paper_quality({p}, paperQuality{p})\" for p in range(NDOCS)])\n",
    "    data.extend([f\"judge_threshold({j}, judgeThreshold{j})\" for j in range(NJUDGES)])\n",
    "\n",
    "    return obs, params + data"
   ]
  },
  {
   "cell_type": "code",
   "execution_count": 20,
   "id": "ff207f9b",
   "metadata": {},
   "outputs": [],
   "source": [
    "obs, data = model()"
   ]
  },
  {
   "cell_type": "code",
   "execution_count": 21,
   "id": "9ab48200",
   "metadata": {},
   "outputs": [],
   "source": [
    "PROG = \"\"\"\n",
    "meet_thresh_prob(P, J; gaussian_survival[TH, Q, E]) <- paper_quality(P, Q),\n",
    "  judge_expertise(J, T, E), hasTopic(P, T), judged(J, P), judge_threshold(J, TH).\n",
    "  \n",
    "meets_thresh(P, J; {yes, no} <~ bernoulli[PROB]) <- meet_thresh_prob(P, J, PROB).\n",
    "\"\"\""
   ]
  },
  {
   "cell_type": "code",
   "execution_count": 22,
   "id": "afbdbe20",
   "metadata": {},
   "outputs": [],
   "source": [
    "SOURCE = \".\\n\".join(data) + \".\" + PROG"
   ]
  },
  {
   "cell_type": "code",
   "execution_count": 23,
   "id": "2fdf4516",
   "metadata": {},
   "outputs": [
    {
     "data": {
      "text/html": [
       "<pre style=\"white-space:pre;overflow-x:auto;line-height:normal;font-family:Menlo,'DejaVu Sans Mono',consolas,'Courier New',monospace\">!parameter paperQuality0 : real.\n",
       "!parameter paperQuality1 : real.\n",
       "!parameter judgeThreshold0 : real.\n",
       "!parameter judgeThreshold1 : real.\n",
       "!parameter judgeExpertise0_0 : real.\n",
       "!parameter judgeExpertise1_0 : real.\n",
       "<span style=\"color: #800080; text-decoration-color: #800080; font-weight: bold\">judged</span><span style=\"font-weight: bold\">(</span><span style=\"color: #008080; text-decoration-color: #008080; font-weight: bold\">0</span>, <span style=\"color: #008080; text-decoration-color: #008080; font-weight: bold\">1</span><span style=\"font-weight: bold\">)</span>.\n",
       "<span style=\"color: #800080; text-decoration-color: #800080; font-weight: bold\">judged</span><span style=\"font-weight: bold\">(</span><span style=\"color: #008080; text-decoration-color: #008080; font-weight: bold\">1</span>, <span style=\"color: #008080; text-decoration-color: #008080; font-weight: bold\">0</span><span style=\"font-weight: bold\">)</span>.\n",
       "<span style=\"color: #800080; text-decoration-color: #800080; font-weight: bold\">hasTopic</span><span style=\"font-weight: bold\">(</span><span style=\"color: #008080; text-decoration-color: #008080; font-weight: bold\">0</span>, <span style=\"color: #008080; text-decoration-color: #008080; font-weight: bold\">0</span><span style=\"font-weight: bold\">)</span>.\n",
       "<span style=\"color: #800080; text-decoration-color: #800080; font-weight: bold\">hasTopic</span><span style=\"font-weight: bold\">(</span><span style=\"color: #008080; text-decoration-color: #008080; font-weight: bold\">1</span>, <span style=\"color: #008080; text-decoration-color: #008080; font-weight: bold\">0</span><span style=\"font-weight: bold\">)</span>.\n",
       "<span style=\"color: #800080; text-decoration-color: #800080; font-weight: bold\">judge_expertise</span><span style=\"font-weight: bold\">(</span><span style=\"color: #008080; text-decoration-color: #008080; font-weight: bold\">0</span>, <span style=\"color: #008080; text-decoration-color: #008080; font-weight: bold\">0</span>, judgeExpertise0_0<span style=\"font-weight: bold\">)</span>.\n",
       "<span style=\"color: #800080; text-decoration-color: #800080; font-weight: bold\">judge_expertise</span><span style=\"font-weight: bold\">(</span><span style=\"color: #008080; text-decoration-color: #008080; font-weight: bold\">1</span>, <span style=\"color: #008080; text-decoration-color: #008080; font-weight: bold\">0</span>, judgeExpertise1_0<span style=\"font-weight: bold\">)</span>.\n",
       "<span style=\"color: #800080; text-decoration-color: #800080; font-weight: bold\">paper_quality</span><span style=\"font-weight: bold\">(</span><span style=\"color: #008080; text-decoration-color: #008080; font-weight: bold\">0</span>, paperQuality0<span style=\"font-weight: bold\">)</span>.\n",
       "<span style=\"color: #800080; text-decoration-color: #800080; font-weight: bold\">paper_quality</span><span style=\"font-weight: bold\">(</span><span style=\"color: #008080; text-decoration-color: #008080; font-weight: bold\">1</span>, paperQuality1<span style=\"font-weight: bold\">)</span>.\n",
       "<span style=\"color: #800080; text-decoration-color: #800080; font-weight: bold\">judge_threshold</span><span style=\"font-weight: bold\">(</span><span style=\"color: #008080; text-decoration-color: #008080; font-weight: bold\">0</span>, judgeThreshold0<span style=\"font-weight: bold\">)</span>.\n",
       "<span style=\"color: #800080; text-decoration-color: #800080; font-weight: bold\">judge_threshold</span><span style=\"font-weight: bold\">(</span><span style=\"color: #008080; text-decoration-color: #008080; font-weight: bold\">1</span>, judgeThreshold1<span style=\"font-weight: bold\">)</span>.\n",
       "<span style=\"color: #800080; text-decoration-color: #800080; font-weight: bold\">meet_thresh_prob</span><span style=\"font-weight: bold\">(</span>P, J; gaussian_survival<span style=\"font-weight: bold\">[</span>TH, Q, E<span style=\"font-weight: bold\">])</span> &lt;- <span style=\"color: #800080; text-decoration-color: #800080; font-weight: bold\">paper_quality</span><span style=\"font-weight: bold\">(</span>P, Q<span style=\"font-weight: bold\">)</span>,\n",
       "  <span style=\"color: #800080; text-decoration-color: #800080; font-weight: bold\">judge_expertise</span><span style=\"font-weight: bold\">(</span>J, T, E<span style=\"font-weight: bold\">)</span>, <span style=\"color: #800080; text-decoration-color: #800080; font-weight: bold\">hasTopic</span><span style=\"font-weight: bold\">(</span>P, T<span style=\"font-weight: bold\">)</span>, <span style=\"color: #800080; text-decoration-color: #800080; font-weight: bold\">judged</span><span style=\"font-weight: bold\">(</span>J, P<span style=\"font-weight: bold\">)</span>, <span style=\"color: #800080; text-decoration-color: #800080; font-weight: bold\">judge_threshold</span><span style=\"font-weight: bold\">(</span>J, TH<span style=\"font-weight: bold\">)</span>.\n",
       "  \n",
       "<span style=\"color: #800080; text-decoration-color: #800080; font-weight: bold\">meets_thresh</span><span style=\"font-weight: bold\">(</span>P, J; <span style=\"font-weight: bold\">{</span>yes, no<span style=\"font-weight: bold\">}</span> &lt;~ bernoulli<span style=\"font-weight: bold\">[</span>PROB<span style=\"font-weight: bold\">])</span> &lt;- <span style=\"color: #800080; text-decoration-color: #800080; font-weight: bold\">meet_thresh_prob</span><span style=\"font-weight: bold\">(</span>P, J, PROB<span style=\"font-weight: bold\">)</span>.\n",
       "\n",
       "</pre>\n"
      ],
      "text/plain": [
       "!parameter paperQuality0 : real.\n",
       "!parameter paperQuality1 : real.\n",
       "!parameter judgeThreshold0 : real.\n",
       "!parameter judgeThreshold1 : real.\n",
       "!parameter judgeExpertise0_0 : real.\n",
       "!parameter judgeExpertise1_0 : real.\n",
       "\u001b[1;35mjudged\u001b[0m\u001b[1m(\u001b[0m\u001b[1;36m0\u001b[0m, \u001b[1;36m1\u001b[0m\u001b[1m)\u001b[0m.\n",
       "\u001b[1;35mjudged\u001b[0m\u001b[1m(\u001b[0m\u001b[1;36m1\u001b[0m, \u001b[1;36m0\u001b[0m\u001b[1m)\u001b[0m.\n",
       "\u001b[1;35mhasTopic\u001b[0m\u001b[1m(\u001b[0m\u001b[1;36m0\u001b[0m, \u001b[1;36m0\u001b[0m\u001b[1m)\u001b[0m.\n",
       "\u001b[1;35mhasTopic\u001b[0m\u001b[1m(\u001b[0m\u001b[1;36m1\u001b[0m, \u001b[1;36m0\u001b[0m\u001b[1m)\u001b[0m.\n",
       "\u001b[1;35mjudge_expertise\u001b[0m\u001b[1m(\u001b[0m\u001b[1;36m0\u001b[0m, \u001b[1;36m0\u001b[0m, judgeExpertise0_0\u001b[1m)\u001b[0m.\n",
       "\u001b[1;35mjudge_expertise\u001b[0m\u001b[1m(\u001b[0m\u001b[1;36m1\u001b[0m, \u001b[1;36m0\u001b[0m, judgeExpertise1_0\u001b[1m)\u001b[0m.\n",
       "\u001b[1;35mpaper_quality\u001b[0m\u001b[1m(\u001b[0m\u001b[1;36m0\u001b[0m, paperQuality0\u001b[1m)\u001b[0m.\n",
       "\u001b[1;35mpaper_quality\u001b[0m\u001b[1m(\u001b[0m\u001b[1;36m1\u001b[0m, paperQuality1\u001b[1m)\u001b[0m.\n",
       "\u001b[1;35mjudge_threshold\u001b[0m\u001b[1m(\u001b[0m\u001b[1;36m0\u001b[0m, judgeThreshold0\u001b[1m)\u001b[0m.\n",
       "\u001b[1;35mjudge_threshold\u001b[0m\u001b[1m(\u001b[0m\u001b[1;36m1\u001b[0m, judgeThreshold1\u001b[1m)\u001b[0m.\n",
       "\u001b[1;35mmeet_thresh_prob\u001b[0m\u001b[1m(\u001b[0mP, J; gaussian_survival\u001b[1m[\u001b[0mTH, Q, E\u001b[1m]\u001b[0m\u001b[1m)\u001b[0m <- \u001b[1;35mpaper_quality\u001b[0m\u001b[1m(\u001b[0mP, Q\u001b[1m)\u001b[0m,\n",
       "  \u001b[1;35mjudge_expertise\u001b[0m\u001b[1m(\u001b[0mJ, T, E\u001b[1m)\u001b[0m, \u001b[1;35mhasTopic\u001b[0m\u001b[1m(\u001b[0mP, T\u001b[1m)\u001b[0m, \u001b[1;35mjudged\u001b[0m\u001b[1m(\u001b[0mJ, P\u001b[1m)\u001b[0m, \u001b[1;35mjudge_threshold\u001b[0m\u001b[1m(\u001b[0mJ, TH\u001b[1m)\u001b[0m.\n",
       "  \n",
       "\u001b[1;35mmeets_thresh\u001b[0m\u001b[1m(\u001b[0mP, J; \u001b[1m{\u001b[0myes, no\u001b[1m}\u001b[0m <~ bernoulli\u001b[1m[\u001b[0mPROB\u001b[1m]\u001b[0m\u001b[1m)\u001b[0m <- \u001b[1;35mmeet_thresh_prob\u001b[0m\u001b[1m(\u001b[0mP, J, PROB\u001b[1m)\u001b[0m.\n",
       "\n"
      ]
     },
     "metadata": {},
     "output_type": "display_data"
    }
   ],
   "source": [
    "print(SOURCE)"
   ]
  },
  {
   "cell_type": "code",
   "execution_count": 24,
   "id": "15707747",
   "metadata": {},
   "outputs": [
    {
     "data": {
      "text/plain": [
       "['meets_thresh(0, 0, yes)',\n",
       " 'meets_thresh(0, 1, yes)',\n",
       " 'meets_thresh(0, 2, yes)',\n",
       " 'meets_thresh(1, 0, yes)',\n",
       " 'meets_thresh(1, 1, yes)',\n",
       " 'meets_thresh(1, 2, yes)']"
      ]
     },
     "execution_count": 24,
     "metadata": {},
     "output_type": "execute_result"
    }
   ],
   "source": [
    "obs"
   ]
  },
  {
   "cell_type": "code",
   "execution_count": 25,
   "id": "f475c8e8",
   "metadata": {},
   "outputs": [],
   "source": [
    "program, _ = loads(SOURCE)"
   ]
  },
  {
   "cell_type": "code",
   "execution_count": 26,
   "id": "a8636327",
   "metadata": {},
   "outputs": [],
   "source": [
    "optimizer = Optimizer(program, learning_rate=1e-2, samples=10, force=True, cache=False)"
   ]
  },
  {
   "cell_type": "code",
   "execution_count": null,
   "id": "d28b2c87",
   "metadata": {},
   "outputs": [
    {
     "name": "stderr",
     "output_type": "stream",
     "text": [
      "Fatal error: exception Invalid_argument(\"Invalid sampling.\")\n"
     ]
    }
   ],
   "source": [
    "optimizer.maximize(*embedder.embed_all(obs))"
   ]
  }
 ],
 "metadata": {
  "kernelspec": {
   "display_name": "Python 3 (ipykernel)",
   "language": "python",
   "name": "python3"
  },
  "language_info": {
   "codemirror_mode": {
    "name": "ipython",
    "version": 3
   },
   "file_extension": ".py",
   "mimetype": "text/x-python",
   "name": "python",
   "nbconvert_exporter": "python",
   "pygments_lexer": "ipython3",
   "version": "3.9.5"
  }
 },
 "nbformat": 4,
 "nbformat_minor": 5
}
