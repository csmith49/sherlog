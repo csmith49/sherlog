{
 "cells": [
  {
   "cell_type": "code",
   "execution_count": 2,
   "id": "a554fedb",
   "metadata": {},
   "outputs": [],
   "source": [
    "import torch\n",
    "from itertools import chain\n",
    "import pyro.distributions as dist\n",
    "import pyro\n",
    "from pyro import poutine\n",
    "import numpy as np\n",
    "from itertools import chain\n",
    "import pdb\n",
    "from pmextract import extract"
   ]
  },
  {
   "cell_type": "code",
   "execution_count": 3,
   "id": "cea50272",
   "metadata": {},
   "outputs": [],
   "source": [
    "from sherlog.program import loads\n",
    "from sherlog.inference import minibatch, FunctionalEmbedding, Optimizer\n",
    "from sherlog.interface import print, initialize, minotaur"
   ]
  },
  {
   "cell_type": "code",
   "execution_count": 4,
   "id": "f2445bfc",
   "metadata": {},
   "outputs": [],
   "source": [
    "initialize(port=8014, instrumentation=None)"
   ]
  },
  {
   "cell_type": "code",
   "execution_count": 5,
   "id": "067938fb",
   "metadata": {},
   "outputs": [],
   "source": [
    "embedder = FunctionalEmbedding(evidence=lambda s: s)"
   ]
  },
  {
   "cell_type": "code",
   "execution_count": 55,
   "id": "50feba4d",
   "metadata": {},
   "outputs": [],
   "source": [
    "NTOPICS = 2\n",
    "NJUDGES = 3\n",
    "JUDGES_PER_PAPER = 2\n",
    "NDOCS = 5"
   ]
  },
  {
   "cell_type": "code",
   "execution_count": 56,
   "id": "ae23641f",
   "metadata": {},
   "outputs": [],
   "source": [
    "topics = torch.randint(0, NTOPICS, (NDOCS,))"
   ]
  },
  {
   "cell_type": "code",
   "execution_count": 57,
   "id": "f776c33f",
   "metadata": {},
   "outputs": [],
   "source": [
    "judges = torch.tensor(np.array([\n",
    "    np.random.choice(NJUDGES, JUDGES_PER_PAPER, replace=False) for _ in range(NDOCS)\n",
    "])).long()"
   ]
  },
  {
   "cell_type": "code",
   "execution_count": 58,
   "id": "cbbd57df",
   "metadata": {},
   "outputs": [
    {
     "data": {
      "text/plain": [
       "torch.Size([5, 2])"
      ]
     },
     "execution_count": 58,
     "metadata": {},
     "output_type": "execute_result"
    }
   ],
   "source": [
    "judges.shape"
   ]
  },
  {
   "cell_type": "code",
   "execution_count": 59,
   "id": "ffb2808f",
   "metadata": {},
   "outputs": [
    {
     "data": {
      "text/plain": [
       "torch.Size([5])"
      ]
     },
     "execution_count": 59,
     "metadata": {},
     "output_type": "execute_result"
    }
   ],
   "source": [
    "topics.shape"
   ]
  },
  {
   "cell_type": "code",
   "execution_count": 60,
   "id": "7c221fb3",
   "metadata": {},
   "outputs": [],
   "source": [
    "def model():\n",
    "    yesno = [\"yes\", \"no\"]\n",
    "    with pyro.plate(\"judges\", NJUDGES):\n",
    "        threshold = pyro.sample(\"threshold\", dist.Normal(4, 0.5))\n",
    "        with pyro.plate(\"topics\", NTOPICS):\n",
    "            expertise = pyro.sample(\"expertise\", dist.Gamma(1., 1.))\n",
    "    with pyro.plate(\"papers\", NDOCS) as papers:\n",
    "        with poutine.block():\n",
    "            quality = pyro.sample(\"quality\", dist.Normal(2.5, 1.0))\n",
    "        with pyro.plate(\"paperjudge\", JUDGES_PER_PAPER) as paperjudge:\n",
    "            paper_expertise = torch.gather(expertise[topics, :], 0, judges.long())\n",
    "            score_dist = dist.Normal(quality.float(), paper_expertise.T)\n",
    "            meetsThresh = pyro.sample(\"meetsThresh\", dist.Bernoulli(probs = 1 - score_dist.cdf(threshold[judges].T))).long()\n",
    "            obs = [f\"meets_thresh({p}, {judges[p,j]}, {yesno[meetsThresh[j, p]]})\" for p in papers for j in paperjudge]\n",
    "    \n",
    "    params = [f\"!parameter paperQuality{i} : real\" for i in range(NDOCS)]\n",
    "    params.extend([f\"!parameter judgeThreshold{i} : real\" for i in range(NJUDGES)])\n",
    "    params.extend([f\"!parameter judgeExpertise{j}_{t} : real\" for j in range(NJUDGES) for t in range(NTOPICS)])\n",
    "    data = list(chain.from_iterable((f\"judged({j}, {p})\" for (p,j) in enumerate(judges[:,i])) for i in range(JUDGES_PER_PAPER)))\n",
    "    data.extend([f\"hasTopic({p}, {t})\" for p, t in enumerate(topics)])\n",
    "    data.extend([f\"judge_expertise({j}, {t}, judgeExpertise{j}_{t})\" for j in range(NJUDGES) for t in range(NTOPICS)])\n",
    "    data.extend([f\"paper_quality({p}, paperQuality{p})\" for p in range(NDOCS)])\n",
    "    data.extend([f\"judge_threshold({j}, judgeThreshold{j})\" for j in range(NJUDGES)])\n",
    "\n",
    "    return obs, params + data"
   ]
  },
  {
   "cell_type": "code",
   "execution_count": 61,
   "id": "51ea9c2a",
   "metadata": {},
   "outputs": [],
   "source": [
    "obs, data = model()"
   ]
  },
  {
   "cell_type": "code",
   "execution_count": 62,
   "id": "daaeb955",
   "metadata": {},
   "outputs": [],
   "source": [
    "PROG = \"\"\"\n",
    "meet_thresh_prob(P, J; gaussian_survival[TH, Q, E]) <- paper_quality(P, Q),\n",
    "  judge_expertise(J, T, E), hasTopic(P, T), judged(J, P), judge_threshold(J, TH).\n",
    "  \n",
    "meets_thresh(P, J; {yes, no} <~ bernoulli[PROB]) <- meet_thresh_prob(P, J, PROB).\n",
    "\"\"\""
   ]
  },
  {
   "cell_type": "code",
   "execution_count": 63,
   "id": "bb459d93",
   "metadata": {},
   "outputs": [],
   "source": [
    "SOURCE = \".\\n\".join(data) + \".\" + PROG"
   ]
  },
  {
   "cell_type": "code",
   "execution_count": 64,
   "id": "68259027",
   "metadata": {},
   "outputs": [
    {
     "data": {
      "text/html": [
       "<pre style=\"white-space:pre;overflow-x:auto;line-height:normal;font-family:Menlo,'DejaVu Sans Mono',consolas,'Courier New',monospace\"><span style=\"font-weight: bold\">[</span>\n",
       "    <span style=\"color: #008000; text-decoration-color: #008000\">'meets_thresh(0, 0, yes)'</span>,\n",
       "    <span style=\"color: #008000; text-decoration-color: #008000\">'meets_thresh(0, 2, yes)'</span>,\n",
       "    <span style=\"color: #008000; text-decoration-color: #008000\">'meets_thresh(1, 1, yes)'</span>,\n",
       "    <span style=\"color: #008000; text-decoration-color: #008000\">'meets_thresh(1, 2, yes)'</span>,\n",
       "    <span style=\"color: #008000; text-decoration-color: #008000\">'meets_thresh(2, 0, yes)'</span>,\n",
       "    <span style=\"color: #008000; text-decoration-color: #008000\">'meets_thresh(2, 1, yes)'</span>,\n",
       "    <span style=\"color: #008000; text-decoration-color: #008000\">'meets_thresh(3, 0, yes)'</span>,\n",
       "    <span style=\"color: #008000; text-decoration-color: #008000\">'meets_thresh(3, 2, yes)'</span>,\n",
       "    <span style=\"color: #008000; text-decoration-color: #008000\">'meets_thresh(4, 0, yes)'</span>,\n",
       "    <span style=\"color: #008000; text-decoration-color: #008000\">'meets_thresh(4, 1, yes)'</span>\n",
       "<span style=\"font-weight: bold\">]</span>\n",
       "</pre>\n"
      ],
      "text/plain": [
       "\u001b[1m[\u001b[0m\n",
       "    \u001b[32m'meets_thresh\u001b[0m\u001b[32m(\u001b[0m\u001b[32m0, 0, yes\u001b[0m\u001b[32m)\u001b[0m\u001b[32m'\u001b[0m,\n",
       "    \u001b[32m'meets_thresh\u001b[0m\u001b[32m(\u001b[0m\u001b[32m0, 2, yes\u001b[0m\u001b[32m)\u001b[0m\u001b[32m'\u001b[0m,\n",
       "    \u001b[32m'meets_thresh\u001b[0m\u001b[32m(\u001b[0m\u001b[32m1, 1, yes\u001b[0m\u001b[32m)\u001b[0m\u001b[32m'\u001b[0m,\n",
       "    \u001b[32m'meets_thresh\u001b[0m\u001b[32m(\u001b[0m\u001b[32m1, 2, yes\u001b[0m\u001b[32m)\u001b[0m\u001b[32m'\u001b[0m,\n",
       "    \u001b[32m'meets_thresh\u001b[0m\u001b[32m(\u001b[0m\u001b[32m2, 0, yes\u001b[0m\u001b[32m)\u001b[0m\u001b[32m'\u001b[0m,\n",
       "    \u001b[32m'meets_thresh\u001b[0m\u001b[32m(\u001b[0m\u001b[32m2, 1, yes\u001b[0m\u001b[32m)\u001b[0m\u001b[32m'\u001b[0m,\n",
       "    \u001b[32m'meets_thresh\u001b[0m\u001b[32m(\u001b[0m\u001b[32m3, 0, yes\u001b[0m\u001b[32m)\u001b[0m\u001b[32m'\u001b[0m,\n",
       "    \u001b[32m'meets_thresh\u001b[0m\u001b[32m(\u001b[0m\u001b[32m3, 2, yes\u001b[0m\u001b[32m)\u001b[0m\u001b[32m'\u001b[0m,\n",
       "    \u001b[32m'meets_thresh\u001b[0m\u001b[32m(\u001b[0m\u001b[32m4, 0, yes\u001b[0m\u001b[32m)\u001b[0m\u001b[32m'\u001b[0m,\n",
       "    \u001b[32m'meets_thresh\u001b[0m\u001b[32m(\u001b[0m\u001b[32m4, 1, yes\u001b[0m\u001b[32m)\u001b[0m\u001b[32m'\u001b[0m\n",
       "\u001b[1m]\u001b[0m\n"
      ]
     },
     "metadata": {},
     "output_type": "display_data"
    }
   ],
   "source": [
    "print(obs)"
   ]
  },
  {
   "cell_type": "code",
   "execution_count": 65,
   "id": "aa81ca2b",
   "metadata": {},
   "outputs": [
    {
     "data": {
      "text/html": [
       "<pre style=\"white-space:pre;overflow-x:auto;line-height:normal;font-family:Menlo,'DejaVu Sans Mono',consolas,'Courier New',monospace\">!parameter paperQuality0 : real.\n",
       "!parameter paperQuality1 : real.\n",
       "!parameter paperQuality2 : real.\n",
       "!parameter paperQuality3 : real.\n",
       "!parameter paperQuality4 : real.\n",
       "!parameter judgeThreshold0 : real.\n",
       "!parameter judgeThreshold1 : real.\n",
       "!parameter judgeThreshold2 : real.\n",
       "!parameter judgeExpertise0_0 : real.\n",
       "!parameter judgeExpertise0_1 : real.\n",
       "!parameter judgeExpertise1_0 : real.\n",
       "!parameter judgeExpertise1_1 : real.\n",
       "!parameter judgeExpertise2_0 : real.\n",
       "!parameter judgeExpertise2_1 : real.\n",
       "<span style=\"color: #800080; text-decoration-color: #800080; font-weight: bold\">judged</span><span style=\"font-weight: bold\">(</span><span style=\"color: #008080; text-decoration-color: #008080; font-weight: bold\">0</span>, <span style=\"color: #008080; text-decoration-color: #008080; font-weight: bold\">0</span><span style=\"font-weight: bold\">)</span>.\n",
       "<span style=\"color: #800080; text-decoration-color: #800080; font-weight: bold\">judged</span><span style=\"font-weight: bold\">(</span><span style=\"color: #008080; text-decoration-color: #008080; font-weight: bold\">1</span>, <span style=\"color: #008080; text-decoration-color: #008080; font-weight: bold\">1</span><span style=\"font-weight: bold\">)</span>.\n",
       "<span style=\"color: #800080; text-decoration-color: #800080; font-weight: bold\">judged</span><span style=\"font-weight: bold\">(</span><span style=\"color: #008080; text-decoration-color: #008080; font-weight: bold\">0</span>, <span style=\"color: #008080; text-decoration-color: #008080; font-weight: bold\">2</span><span style=\"font-weight: bold\">)</span>.\n",
       "<span style=\"color: #800080; text-decoration-color: #800080; font-weight: bold\">judged</span><span style=\"font-weight: bold\">(</span><span style=\"color: #008080; text-decoration-color: #008080; font-weight: bold\">0</span>, <span style=\"color: #008080; text-decoration-color: #008080; font-weight: bold\">3</span><span style=\"font-weight: bold\">)</span>.\n",
       "<span style=\"color: #800080; text-decoration-color: #800080; font-weight: bold\">judged</span><span style=\"font-weight: bold\">(</span><span style=\"color: #008080; text-decoration-color: #008080; font-weight: bold\">0</span>, <span style=\"color: #008080; text-decoration-color: #008080; font-weight: bold\">4</span><span style=\"font-weight: bold\">)</span>.\n",
       "<span style=\"color: #800080; text-decoration-color: #800080; font-weight: bold\">judged</span><span style=\"font-weight: bold\">(</span><span style=\"color: #008080; text-decoration-color: #008080; font-weight: bold\">2</span>, <span style=\"color: #008080; text-decoration-color: #008080; font-weight: bold\">0</span><span style=\"font-weight: bold\">)</span>.\n",
       "<span style=\"color: #800080; text-decoration-color: #800080; font-weight: bold\">judged</span><span style=\"font-weight: bold\">(</span><span style=\"color: #008080; text-decoration-color: #008080; font-weight: bold\">2</span>, <span style=\"color: #008080; text-decoration-color: #008080; font-weight: bold\">1</span><span style=\"font-weight: bold\">)</span>.\n",
       "<span style=\"color: #800080; text-decoration-color: #800080; font-weight: bold\">judged</span><span style=\"font-weight: bold\">(</span><span style=\"color: #008080; text-decoration-color: #008080; font-weight: bold\">1</span>, <span style=\"color: #008080; text-decoration-color: #008080; font-weight: bold\">2</span><span style=\"font-weight: bold\">)</span>.\n",
       "<span style=\"color: #800080; text-decoration-color: #800080; font-weight: bold\">judged</span><span style=\"font-weight: bold\">(</span><span style=\"color: #008080; text-decoration-color: #008080; font-weight: bold\">2</span>, <span style=\"color: #008080; text-decoration-color: #008080; font-weight: bold\">3</span><span style=\"font-weight: bold\">)</span>.\n",
       "<span style=\"color: #800080; text-decoration-color: #800080; font-weight: bold\">judged</span><span style=\"font-weight: bold\">(</span><span style=\"color: #008080; text-decoration-color: #008080; font-weight: bold\">1</span>, <span style=\"color: #008080; text-decoration-color: #008080; font-weight: bold\">4</span><span style=\"font-weight: bold\">)</span>.\n",
       "<span style=\"color: #800080; text-decoration-color: #800080; font-weight: bold\">hasTopic</span><span style=\"font-weight: bold\">(</span><span style=\"color: #008080; text-decoration-color: #008080; font-weight: bold\">0</span>, <span style=\"color: #008080; text-decoration-color: #008080; font-weight: bold\">0</span><span style=\"font-weight: bold\">)</span>.\n",
       "<span style=\"color: #800080; text-decoration-color: #800080; font-weight: bold\">hasTopic</span><span style=\"font-weight: bold\">(</span><span style=\"color: #008080; text-decoration-color: #008080; font-weight: bold\">1</span>, <span style=\"color: #008080; text-decoration-color: #008080; font-weight: bold\">1</span><span style=\"font-weight: bold\">)</span>.\n",
       "<span style=\"color: #800080; text-decoration-color: #800080; font-weight: bold\">hasTopic</span><span style=\"font-weight: bold\">(</span><span style=\"color: #008080; text-decoration-color: #008080; font-weight: bold\">2</span>, <span style=\"color: #008080; text-decoration-color: #008080; font-weight: bold\">0</span><span style=\"font-weight: bold\">)</span>.\n",
       "<span style=\"color: #800080; text-decoration-color: #800080; font-weight: bold\">hasTopic</span><span style=\"font-weight: bold\">(</span><span style=\"color: #008080; text-decoration-color: #008080; font-weight: bold\">3</span>, <span style=\"color: #008080; text-decoration-color: #008080; font-weight: bold\">1</span><span style=\"font-weight: bold\">)</span>.\n",
       "<span style=\"color: #800080; text-decoration-color: #800080; font-weight: bold\">hasTopic</span><span style=\"font-weight: bold\">(</span><span style=\"color: #008080; text-decoration-color: #008080; font-weight: bold\">4</span>, <span style=\"color: #008080; text-decoration-color: #008080; font-weight: bold\">1</span><span style=\"font-weight: bold\">)</span>.\n",
       "<span style=\"color: #800080; text-decoration-color: #800080; font-weight: bold\">judge_expertise</span><span style=\"font-weight: bold\">(</span><span style=\"color: #008080; text-decoration-color: #008080; font-weight: bold\">0</span>, <span style=\"color: #008080; text-decoration-color: #008080; font-weight: bold\">0</span>, judgeExpertise0_0<span style=\"font-weight: bold\">)</span>.\n",
       "<span style=\"color: #800080; text-decoration-color: #800080; font-weight: bold\">judge_expertise</span><span style=\"font-weight: bold\">(</span><span style=\"color: #008080; text-decoration-color: #008080; font-weight: bold\">0</span>, <span style=\"color: #008080; text-decoration-color: #008080; font-weight: bold\">1</span>, judgeExpertise0_1<span style=\"font-weight: bold\">)</span>.\n",
       "<span style=\"color: #800080; text-decoration-color: #800080; font-weight: bold\">judge_expertise</span><span style=\"font-weight: bold\">(</span><span style=\"color: #008080; text-decoration-color: #008080; font-weight: bold\">1</span>, <span style=\"color: #008080; text-decoration-color: #008080; font-weight: bold\">0</span>, judgeExpertise1_0<span style=\"font-weight: bold\">)</span>.\n",
       "<span style=\"color: #800080; text-decoration-color: #800080; font-weight: bold\">judge_expertise</span><span style=\"font-weight: bold\">(</span><span style=\"color: #008080; text-decoration-color: #008080; font-weight: bold\">1</span>, <span style=\"color: #008080; text-decoration-color: #008080; font-weight: bold\">1</span>, judgeExpertise1_1<span style=\"font-weight: bold\">)</span>.\n",
       "<span style=\"color: #800080; text-decoration-color: #800080; font-weight: bold\">judge_expertise</span><span style=\"font-weight: bold\">(</span><span style=\"color: #008080; text-decoration-color: #008080; font-weight: bold\">2</span>, <span style=\"color: #008080; text-decoration-color: #008080; font-weight: bold\">0</span>, judgeExpertise2_0<span style=\"font-weight: bold\">)</span>.\n",
       "<span style=\"color: #800080; text-decoration-color: #800080; font-weight: bold\">judge_expertise</span><span style=\"font-weight: bold\">(</span><span style=\"color: #008080; text-decoration-color: #008080; font-weight: bold\">2</span>, <span style=\"color: #008080; text-decoration-color: #008080; font-weight: bold\">1</span>, judgeExpertise2_1<span style=\"font-weight: bold\">)</span>.\n",
       "<span style=\"color: #800080; text-decoration-color: #800080; font-weight: bold\">paper_quality</span><span style=\"font-weight: bold\">(</span><span style=\"color: #008080; text-decoration-color: #008080; font-weight: bold\">0</span>, paperQuality0<span style=\"font-weight: bold\">)</span>.\n",
       "<span style=\"color: #800080; text-decoration-color: #800080; font-weight: bold\">paper_quality</span><span style=\"font-weight: bold\">(</span><span style=\"color: #008080; text-decoration-color: #008080; font-weight: bold\">1</span>, paperQuality1<span style=\"font-weight: bold\">)</span>.\n",
       "<span style=\"color: #800080; text-decoration-color: #800080; font-weight: bold\">paper_quality</span><span style=\"font-weight: bold\">(</span><span style=\"color: #008080; text-decoration-color: #008080; font-weight: bold\">2</span>, paperQuality2<span style=\"font-weight: bold\">)</span>.\n",
       "<span style=\"color: #800080; text-decoration-color: #800080; font-weight: bold\">paper_quality</span><span style=\"font-weight: bold\">(</span><span style=\"color: #008080; text-decoration-color: #008080; font-weight: bold\">3</span>, paperQuality3<span style=\"font-weight: bold\">)</span>.\n",
       "<span style=\"color: #800080; text-decoration-color: #800080; font-weight: bold\">paper_quality</span><span style=\"font-weight: bold\">(</span><span style=\"color: #008080; text-decoration-color: #008080; font-weight: bold\">4</span>, paperQuality4<span style=\"font-weight: bold\">)</span>.\n",
       "<span style=\"color: #800080; text-decoration-color: #800080; font-weight: bold\">judge_threshold</span><span style=\"font-weight: bold\">(</span><span style=\"color: #008080; text-decoration-color: #008080; font-weight: bold\">0</span>, judgeThreshold0<span style=\"font-weight: bold\">)</span>.\n",
       "<span style=\"color: #800080; text-decoration-color: #800080; font-weight: bold\">judge_threshold</span><span style=\"font-weight: bold\">(</span><span style=\"color: #008080; text-decoration-color: #008080; font-weight: bold\">1</span>, judgeThreshold1<span style=\"font-weight: bold\">)</span>.\n",
       "<span style=\"color: #800080; text-decoration-color: #800080; font-weight: bold\">judge_threshold</span><span style=\"font-weight: bold\">(</span><span style=\"color: #008080; text-decoration-color: #008080; font-weight: bold\">2</span>, judgeThreshold2<span style=\"font-weight: bold\">)</span>.\n",
       "<span style=\"color: #800080; text-decoration-color: #800080; font-weight: bold\">meet_thresh_prob</span><span style=\"font-weight: bold\">(</span>P, J; gaussian_survival<span style=\"font-weight: bold\">[</span>TH, Q, E<span style=\"font-weight: bold\">])</span> &lt;- <span style=\"color: #800080; text-decoration-color: #800080; font-weight: bold\">paper_quality</span><span style=\"font-weight: bold\">(</span>P, Q<span style=\"font-weight: bold\">)</span>,\n",
       "  <span style=\"color: #800080; text-decoration-color: #800080; font-weight: bold\">judge_expertise</span><span style=\"font-weight: bold\">(</span>J, T, E<span style=\"font-weight: bold\">)</span>, <span style=\"color: #800080; text-decoration-color: #800080; font-weight: bold\">hasTopic</span><span style=\"font-weight: bold\">(</span>P, T<span style=\"font-weight: bold\">)</span>, <span style=\"color: #800080; text-decoration-color: #800080; font-weight: bold\">judged</span><span style=\"font-weight: bold\">(</span>J, P<span style=\"font-weight: bold\">)</span>, <span style=\"color: #800080; text-decoration-color: #800080; font-weight: bold\">judge_threshold</span><span style=\"font-weight: bold\">(</span>J, TH<span style=\"font-weight: bold\">)</span>.\n",
       "  \n",
       "<span style=\"color: #800080; text-decoration-color: #800080; font-weight: bold\">meets_thresh</span><span style=\"font-weight: bold\">(</span>P, J; <span style=\"font-weight: bold\">{</span>yes, no<span style=\"font-weight: bold\">}</span> &lt;~ bernoulli<span style=\"font-weight: bold\">[</span>PROB<span style=\"font-weight: bold\">])</span> &lt;- <span style=\"color: #800080; text-decoration-color: #800080; font-weight: bold\">meet_thresh_prob</span><span style=\"font-weight: bold\">(</span>P, J, PROB<span style=\"font-weight: bold\">)</span>.\n",
       "\n",
       "</pre>\n"
      ],
      "text/plain": [
       "!parameter paperQuality0 : real.\n",
       "!parameter paperQuality1 : real.\n",
       "!parameter paperQuality2 : real.\n",
       "!parameter paperQuality3 : real.\n",
       "!parameter paperQuality4 : real.\n",
       "!parameter judgeThreshold0 : real.\n",
       "!parameter judgeThreshold1 : real.\n",
       "!parameter judgeThreshold2 : real.\n",
       "!parameter judgeExpertise0_0 : real.\n",
       "!parameter judgeExpertise0_1 : real.\n",
       "!parameter judgeExpertise1_0 : real.\n",
       "!parameter judgeExpertise1_1 : real.\n",
       "!parameter judgeExpertise2_0 : real.\n",
       "!parameter judgeExpertise2_1 : real.\n",
       "\u001b[1;35mjudged\u001b[0m\u001b[1m(\u001b[0m\u001b[1;36m0\u001b[0m, \u001b[1;36m0\u001b[0m\u001b[1m)\u001b[0m.\n",
       "\u001b[1;35mjudged\u001b[0m\u001b[1m(\u001b[0m\u001b[1;36m1\u001b[0m, \u001b[1;36m1\u001b[0m\u001b[1m)\u001b[0m.\n",
       "\u001b[1;35mjudged\u001b[0m\u001b[1m(\u001b[0m\u001b[1;36m0\u001b[0m, \u001b[1;36m2\u001b[0m\u001b[1m)\u001b[0m.\n",
       "\u001b[1;35mjudged\u001b[0m\u001b[1m(\u001b[0m\u001b[1;36m0\u001b[0m, \u001b[1;36m3\u001b[0m\u001b[1m)\u001b[0m.\n",
       "\u001b[1;35mjudged\u001b[0m\u001b[1m(\u001b[0m\u001b[1;36m0\u001b[0m, \u001b[1;36m4\u001b[0m\u001b[1m)\u001b[0m.\n",
       "\u001b[1;35mjudged\u001b[0m\u001b[1m(\u001b[0m\u001b[1;36m2\u001b[0m, \u001b[1;36m0\u001b[0m\u001b[1m)\u001b[0m.\n",
       "\u001b[1;35mjudged\u001b[0m\u001b[1m(\u001b[0m\u001b[1;36m2\u001b[0m, \u001b[1;36m1\u001b[0m\u001b[1m)\u001b[0m.\n",
       "\u001b[1;35mjudged\u001b[0m\u001b[1m(\u001b[0m\u001b[1;36m1\u001b[0m, \u001b[1;36m2\u001b[0m\u001b[1m)\u001b[0m.\n",
       "\u001b[1;35mjudged\u001b[0m\u001b[1m(\u001b[0m\u001b[1;36m2\u001b[0m, \u001b[1;36m3\u001b[0m\u001b[1m)\u001b[0m.\n",
       "\u001b[1;35mjudged\u001b[0m\u001b[1m(\u001b[0m\u001b[1;36m1\u001b[0m, \u001b[1;36m4\u001b[0m\u001b[1m)\u001b[0m.\n",
       "\u001b[1;35mhasTopic\u001b[0m\u001b[1m(\u001b[0m\u001b[1;36m0\u001b[0m, \u001b[1;36m0\u001b[0m\u001b[1m)\u001b[0m.\n",
       "\u001b[1;35mhasTopic\u001b[0m\u001b[1m(\u001b[0m\u001b[1;36m1\u001b[0m, \u001b[1;36m1\u001b[0m\u001b[1m)\u001b[0m.\n",
       "\u001b[1;35mhasTopic\u001b[0m\u001b[1m(\u001b[0m\u001b[1;36m2\u001b[0m, \u001b[1;36m0\u001b[0m\u001b[1m)\u001b[0m.\n",
       "\u001b[1;35mhasTopic\u001b[0m\u001b[1m(\u001b[0m\u001b[1;36m3\u001b[0m, \u001b[1;36m1\u001b[0m\u001b[1m)\u001b[0m.\n",
       "\u001b[1;35mhasTopic\u001b[0m\u001b[1m(\u001b[0m\u001b[1;36m4\u001b[0m, \u001b[1;36m1\u001b[0m\u001b[1m)\u001b[0m.\n",
       "\u001b[1;35mjudge_expertise\u001b[0m\u001b[1m(\u001b[0m\u001b[1;36m0\u001b[0m, \u001b[1;36m0\u001b[0m, judgeExpertise0_0\u001b[1m)\u001b[0m.\n",
       "\u001b[1;35mjudge_expertise\u001b[0m\u001b[1m(\u001b[0m\u001b[1;36m0\u001b[0m, \u001b[1;36m1\u001b[0m, judgeExpertise0_1\u001b[1m)\u001b[0m.\n",
       "\u001b[1;35mjudge_expertise\u001b[0m\u001b[1m(\u001b[0m\u001b[1;36m1\u001b[0m, \u001b[1;36m0\u001b[0m, judgeExpertise1_0\u001b[1m)\u001b[0m.\n",
       "\u001b[1;35mjudge_expertise\u001b[0m\u001b[1m(\u001b[0m\u001b[1;36m1\u001b[0m, \u001b[1;36m1\u001b[0m, judgeExpertise1_1\u001b[1m)\u001b[0m.\n",
       "\u001b[1;35mjudge_expertise\u001b[0m\u001b[1m(\u001b[0m\u001b[1;36m2\u001b[0m, \u001b[1;36m0\u001b[0m, judgeExpertise2_0\u001b[1m)\u001b[0m.\n",
       "\u001b[1;35mjudge_expertise\u001b[0m\u001b[1m(\u001b[0m\u001b[1;36m2\u001b[0m, \u001b[1;36m1\u001b[0m, judgeExpertise2_1\u001b[1m)\u001b[0m.\n",
       "\u001b[1;35mpaper_quality\u001b[0m\u001b[1m(\u001b[0m\u001b[1;36m0\u001b[0m, paperQuality0\u001b[1m)\u001b[0m.\n",
       "\u001b[1;35mpaper_quality\u001b[0m\u001b[1m(\u001b[0m\u001b[1;36m1\u001b[0m, paperQuality1\u001b[1m)\u001b[0m.\n",
       "\u001b[1;35mpaper_quality\u001b[0m\u001b[1m(\u001b[0m\u001b[1;36m2\u001b[0m, paperQuality2\u001b[1m)\u001b[0m.\n",
       "\u001b[1;35mpaper_quality\u001b[0m\u001b[1m(\u001b[0m\u001b[1;36m3\u001b[0m, paperQuality3\u001b[1m)\u001b[0m.\n",
       "\u001b[1;35mpaper_quality\u001b[0m\u001b[1m(\u001b[0m\u001b[1;36m4\u001b[0m, paperQuality4\u001b[1m)\u001b[0m.\n",
       "\u001b[1;35mjudge_threshold\u001b[0m\u001b[1m(\u001b[0m\u001b[1;36m0\u001b[0m, judgeThreshold0\u001b[1m)\u001b[0m.\n",
       "\u001b[1;35mjudge_threshold\u001b[0m\u001b[1m(\u001b[0m\u001b[1;36m1\u001b[0m, judgeThreshold1\u001b[1m)\u001b[0m.\n",
       "\u001b[1;35mjudge_threshold\u001b[0m\u001b[1m(\u001b[0m\u001b[1;36m2\u001b[0m, judgeThreshold2\u001b[1m)\u001b[0m.\n",
       "\u001b[1;35mmeet_thresh_prob\u001b[0m\u001b[1m(\u001b[0mP, J; gaussian_survival\u001b[1m[\u001b[0mTH, Q, E\u001b[1m]\u001b[0m\u001b[1m)\u001b[0m <- \u001b[1;35mpaper_quality\u001b[0m\u001b[1m(\u001b[0mP, Q\u001b[1m)\u001b[0m,\n",
       "  \u001b[1;35mjudge_expertise\u001b[0m\u001b[1m(\u001b[0mJ, T, E\u001b[1m)\u001b[0m, \u001b[1;35mhasTopic\u001b[0m\u001b[1m(\u001b[0mP, T\u001b[1m)\u001b[0m, \u001b[1;35mjudged\u001b[0m\u001b[1m(\u001b[0mJ, P\u001b[1m)\u001b[0m, \u001b[1;35mjudge_threshold\u001b[0m\u001b[1m(\u001b[0mJ, TH\u001b[1m)\u001b[0m.\n",
       "  \n",
       "\u001b[1;35mmeets_thresh\u001b[0m\u001b[1m(\u001b[0mP, J; \u001b[1m{\u001b[0myes, no\u001b[1m}\u001b[0m <~ bernoulli\u001b[1m[\u001b[0mPROB\u001b[1m]\u001b[0m\u001b[1m)\u001b[0m <- \u001b[1;35mmeet_thresh_prob\u001b[0m\u001b[1m(\u001b[0mP, J, PROB\u001b[1m)\u001b[0m.\n",
       "\n"
      ]
     },
     "metadata": {},
     "output_type": "display_data"
    }
   ],
   "source": [
    "print(SOURCE)"
   ]
  },
  {
   "cell_type": "code",
   "execution_count": 66,
   "id": "e340225f",
   "metadata": {},
   "outputs": [],
   "source": [
    "program, _ = loads(SOURCE)"
   ]
  },
  {
   "cell_type": "code",
   "execution_count": 67,
   "id": "abea4474",
   "metadata": {},
   "outputs": [],
   "source": [
    "optimizer = Optimizer(program, learning_rate=1e-2, samples=10, force=True, cache=False)"
   ]
  },
  {
   "cell_type": "code",
   "execution_count": 68,
   "id": "be00d37e",
   "metadata": {},
   "outputs": [],
   "source": [
    "optimizer.maximize(*embedder.embed_all(obs))"
   ]
  },
  {
   "cell_type": "code",
   "execution_count": 69,
   "id": "d2a000a2",
   "metadata": {},
   "outputs": [
    {
     "data": {
      "text/html": [
       "<pre style=\"white-space:pre;overflow-x:auto;line-height:normal;font-family:Menlo,'DejaVu Sans Mono',consolas,'Courier New',monospace\"><span style=\"color: #008080; text-decoration-color: #008080; font-weight: bold\">13.862943649291992</span>\n",
       "</pre>\n"
      ],
      "text/plain": [
       "\u001b[1;36m13.862943649291992\u001b[0m\n"
      ]
     },
     "metadata": {},
     "output_type": "display_data"
    },
    {
     "data": {
      "text/html": [
       "<pre style=\"white-space:pre;overflow-x:auto;line-height:normal;font-family:Menlo,'DejaVu Sans Mono',consolas,'Courier New',monospace\"><span style=\"color: #008080; text-decoration-color: #008080; font-weight: bold\">2.823244571685791</span>\n",
       "</pre>\n"
      ],
      "text/plain": [
       "\u001b[1;36m2.823244571685791\u001b[0m\n"
      ]
     },
     "metadata": {},
     "output_type": "display_data"
    },
    {
     "data": {
      "text/html": [
       "<pre style=\"white-space:pre;overflow-x:auto;line-height:normal;font-family:Menlo,'DejaVu Sans Mono',consolas,'Courier New',monospace\"><span style=\"color: #008080; text-decoration-color: #008080; font-weight: bold\">2.025430679321289</span>\n",
       "</pre>\n"
      ],
      "text/plain": [
       "\u001b[1;36m2.025430679321289\u001b[0m\n"
      ]
     },
     "metadata": {},
     "output_type": "display_data"
    },
    {
     "data": {
      "text/html": [
       "<pre style=\"white-space:pre;overflow-x:auto;line-height:normal;font-family:Menlo,'DejaVu Sans Mono',consolas,'Courier New',monospace\"><span style=\"color: #008080; text-decoration-color: #008080; font-weight: bold\">1.4499273300170898</span>\n",
       "</pre>\n"
      ],
      "text/plain": [
       "\u001b[1;36m1.4499273300170898\u001b[0m\n"
      ]
     },
     "metadata": {},
     "output_type": "display_data"
    },
    {
     "data": {
      "text/html": [
       "<pre style=\"white-space:pre;overflow-x:auto;line-height:normal;font-family:Menlo,'DejaVu Sans Mono',consolas,'Courier New',monospace\"><span style=\"color: #008080; text-decoration-color: #008080; font-weight: bold\">1.036405324935913</span>\n",
       "</pre>\n"
      ],
      "text/plain": [
       "\u001b[1;36m1.036405324935913\u001b[0m\n"
      ]
     },
     "metadata": {},
     "output_type": "display_data"
    },
    {
     "data": {
      "text/html": [
       "<pre style=\"white-space:pre;overflow-x:auto;line-height:normal;font-family:Menlo,'DejaVu Sans Mono',consolas,'Courier New',monospace\"><span style=\"color: #008080; text-decoration-color: #008080; font-weight: bold\">0.7431535720825195</span>\n",
       "</pre>\n"
      ],
      "text/plain": [
       "\u001b[1;36m0.7431535720825195\u001b[0m\n"
      ]
     },
     "metadata": {},
     "output_type": "display_data"
    },
    {
     "data": {
      "text/html": [
       "<pre style=\"white-space:pre;overflow-x:auto;line-height:normal;font-family:Menlo,'DejaVu Sans Mono',consolas,'Courier New',monospace\"><span style=\"color: #008080; text-decoration-color: #008080; font-weight: bold\">0.5381296873092651</span>\n",
       "</pre>\n"
      ],
      "text/plain": [
       "\u001b[1;36m0.5381296873092651\u001b[0m\n"
      ]
     },
     "metadata": {},
     "output_type": "display_data"
    },
    {
     "data": {
      "text/html": [
       "<pre style=\"white-space:pre;overflow-x:auto;line-height:normal;font-family:Menlo,'DejaVu Sans Mono',consolas,'Courier New',monospace\"><span style=\"color: #008080; text-decoration-color: #008080; font-weight: bold\">0.39610055088996887</span>\n",
       "</pre>\n"
      ],
      "text/plain": [
       "\u001b[1;36m0.39610055088996887\u001b[0m\n"
      ]
     },
     "metadata": {},
     "output_type": "display_data"
    },
    {
     "data": {
      "text/html": [
       "<pre style=\"white-space:pre;overflow-x:auto;line-height:normal;font-family:Menlo,'DejaVu Sans Mono',consolas,'Courier New',monospace\"><span style=\"color: #008080; text-decoration-color: #008080; font-weight: bold\">0.29776012897491455</span>\n",
       "</pre>\n"
      ],
      "text/plain": [
       "\u001b[1;36m0.29776012897491455\u001b[0m\n"
      ]
     },
     "metadata": {},
     "output_type": "display_data"
    },
    {
     "data": {
      "text/html": [
       "<pre style=\"white-space:pre;overflow-x:auto;line-height:normal;font-family:Menlo,'DejaVu Sans Mono',consolas,'Courier New',monospace\"><span style=\"color: #008080; text-decoration-color: #008080; font-weight: bold\">0.22906097769737244</span>\n",
       "</pre>\n"
      ],
      "text/plain": [
       "\u001b[1;36m0.22906097769737244\u001b[0m\n"
      ]
     },
     "metadata": {},
     "output_type": "display_data"
    }
   ],
   "source": [
    "for batch in minibatch(obs, 10, epochs=10):\n",
    "    optimizer.maximize(*embedder.embed_all(batch.data))\n",
    "    print(optimizer.optimize().item())"
   ]
  }
 ],
 "metadata": {
  "kernelspec": {
   "display_name": "Python 3 (ipykernel)",
   "language": "python",
   "name": "python3"
  },
  "language_info": {
   "codemirror_mode": {
    "name": "ipython",
    "version": 3
   },
   "file_extension": ".py",
   "mimetype": "text/x-python",
   "name": "python",
   "nbconvert_exporter": "python",
   "pygments_lexer": "ipython3",
   "version": "3.9.5"
  }
 },
 "nbformat": 4,
 "nbformat_minor": 5
}
