{
 "cells": [
  {
   "cell_type": "code",
   "execution_count": 4,
   "id": "8ae9de7d",
   "metadata": {},
   "outputs": [],
   "source": [
    "import torch\n",
    "import pyro\n",
    "import pyro.distributions as dist\n",
    "import pdb"
   ]
  },
  {
   "cell_type": "code",
   "execution_count": 5,
   "id": "9d4b4d4f",
   "metadata": {},
   "outputs": [],
   "source": [
    "from sherlog.program import loads\n",
    "from sherlog.inference import minibatch, FunctionalEmbedding, Optimizer\n",
    "from sherlog.interface import print, initialize, minotaur"
   ]
  },
  {
   "cell_type": "code",
   "execution_count": 6,
   "id": "2d3033bd",
   "metadata": {},
   "outputs": [],
   "source": [
    "initialize(port=7996, instrumentation=None)"
   ]
  },
  {
   "cell_type": "code",
   "execution_count": 7,
   "id": "7d5b4ebe",
   "metadata": {},
   "outputs": [],
   "source": [
    "embedder = FunctionalEmbedding(evidence=lambda s: s)"
   ]
  },
  {
   "cell_type": "code",
   "execution_count": 8,
   "id": "86c1c170",
   "metadata": {},
   "outputs": [],
   "source": [
    "NPlayers = 3"
   ]
  },
  {
   "cell_type": "code",
   "execution_count": 9,
   "id": "5691b511",
   "metadata": {},
   "outputs": [],
   "source": [
    "at_bats = dist.Poisson(10).sample((NPlayers,)).long() + 1"
   ]
  },
  {
   "cell_type": "code",
   "execution_count": 10,
   "id": "65db25b8",
   "metadata": {},
   "outputs": [
    {
     "data": {
      "text/plain": [
       "tensor([11, 10,  7])"
      ]
     },
     "execution_count": 10,
     "metadata": {},
     "output_type": "execute_result"
    }
   ],
   "source": [
    "at_bats"
   ]
  },
  {
   "cell_type": "markdown",
   "id": "42986509",
   "metadata": {},
   "source": [
    "## Partially Pooled"
   ]
  },
  {
   "cell_type": "code",
   "execution_count": 25,
   "id": "674ed2f9",
   "metadata": {},
   "outputs": [],
   "source": [
    "def partialpooled():\n",
    "    observations = []\n",
    "    players = []\n",
    "    times = []\n",
    "    num_players = at_bats.shape[0]\n",
    "    max_times = 0\n",
    "    kappa = dist.Pareto(1, 1.5).sample()\n",
    "    m = dist.Uniform(0, 1).sample()\n",
    "    phis = []\n",
    "    print((m * kappa, (1-m) * kappa))\n",
    "    beta = dist.Beta(m * kappa, (1 - m) * kappa)\n",
    "    for player in range(NPlayers):\n",
    "        phi = beta.sample()\n",
    "        phis.append(phi)\n",
    "        players.append(f\"player({player}, p{player}).\")\n",
    "        for time in range(at_bats[player].item()):\n",
    "            max_times = max(max_times, time)\n",
    "            result = [\"hit\", \"miss\"][dist.Bernoulli(phi).sample().long()]\n",
    "            observations.append(f\"atbat({player}, {time}, {result})\")\n",
    "    for time in range(max_times + 1):\n",
    "        times.append(f\"time({time}).\")\n",
    "    return phis, observations, players + times "
   ]
  },
  {
   "cell_type": "code",
   "execution_count": 26,
   "id": "c610ac46",
   "metadata": {},
   "outputs": [
    {
     "data": {
      "text/html": [
       "<pre style=\"white-space:pre;overflow-x:auto;line-height:normal;font-family:Menlo,'DejaVu Sans Mono',consolas,'Courier New',monospace\"><span style=\"font-weight: bold\">(</span><span style=\"color: #800080; text-decoration-color: #800080; font-weight: bold\">tensor</span><span style=\"font-weight: bold\">(</span><span style=\"color: #008080; text-decoration-color: #008080; font-weight: bold\">0.8724</span><span style=\"font-weight: bold\">)</span>, <span style=\"color: #800080; text-decoration-color: #800080; font-weight: bold\">tensor</span><span style=\"font-weight: bold\">(</span><span style=\"color: #008080; text-decoration-color: #008080; font-weight: bold\">0.6620</span><span style=\"font-weight: bold\">))</span>\n",
       "</pre>\n"
      ],
      "text/plain": [
       "\u001b[1m(\u001b[0m\u001b[1;35mtensor\u001b[0m\u001b[1m(\u001b[0m\u001b[1;36m0.8724\u001b[0m\u001b[1m)\u001b[0m, \u001b[1;35mtensor\u001b[0m\u001b[1m(\u001b[0m\u001b[1;36m0.6620\u001b[0m\u001b[1m)\u001b[0m\u001b[1m)\u001b[0m\n"
      ]
     },
     "metadata": {},
     "output_type": "display_data"
    }
   ],
   "source": [
    "phis, observations, domains = partialpooled()"
   ]
  },
  {
   "cell_type": "code",
   "execution_count": 31,
   "id": "3070c355",
   "metadata": {},
   "outputs": [],
   "source": [
    "params = [f\"!parameter p{i} : unit.\" for i in range(NPlayers)]"
   ]
  },
  {
   "cell_type": "code",
   "execution_count": 32,
   "id": "3e7fbcd1",
   "metadata": {},
   "outputs": [],
   "source": [
    "params += [f\"!parameter b : positive[2].\"]"
   ]
  },
  {
   "cell_type": "code",
   "execution_count": null,
   "id": "0e545275",
   "metadata": {},
   "outputs": [],
   "source": [
    "PROG = \"\"\"\n",
    "atbat(P, T; {hit, miss} <~ bernoulli[PARAM]) <- player(P, PARAM), time(T).\n",
    "\"\"\""
   ]
  },
  {
   "cell_type": "markdown",
   "id": "79b5bb15",
   "metadata": {},
   "source": [
    "PROBLEM: how do we express a parameter that gets sampled from somewhere in Sherlog's MLE framework?"
   ]
  },
  {
   "cell_type": "markdown",
   "id": "a8ec84fb",
   "metadata": {},
   "source": [
    "## Not Pooled"
   ]
  },
  {
   "cell_type": "code",
   "execution_count": 30,
   "id": "bdae83ed",
   "metadata": {},
   "outputs": [],
   "source": [
    "phi = dist.Beta(2, 3).sample((NPlayers,))"
   ]
  },
  {
   "cell_type": "code",
   "execution_count": 31,
   "id": "cee1be0c",
   "metadata": {},
   "outputs": [
    {
     "data": {
      "text/plain": [
       "tensor([0.2445, 0.5401, 0.2784])"
      ]
     },
     "execution_count": 31,
     "metadata": {},
     "output_type": "execute_result"
    }
   ],
   "source": [
    "phi"
   ]
  },
  {
   "cell_type": "code",
   "execution_count": 32,
   "id": "9406c405",
   "metadata": {},
   "outputs": [],
   "source": [
    "def notpooled():\n",
    "    observations = []\n",
    "    players = []\n",
    "    times = []\n",
    "    num_players = at_bats.shape[0]\n",
    "    max_times = 0\n",
    "    for player in range(NPlayers):\n",
    "        players.append(f\"player({player}, p{player}).\")\n",
    "        for time in range(at_bats[player].item()):\n",
    "            max_times = max(max_times, time)\n",
    "            result = [\"hit\", \"miss\"][dist.Bernoulli(phi[player]).sample().long()]\n",
    "            observations.append(f\"atbat({player}, {time}, {result})\")\n",
    "    for time in range(max_times + 1):\n",
    "        times.append(f\"time({time}).\")\n",
    "    return observations, players + times"
   ]
  },
  {
   "cell_type": "code",
   "execution_count": 33,
   "id": "f38f3d48",
   "metadata": {},
   "outputs": [],
   "source": [
    "observations, domains = notpooled()"
   ]
  },
  {
   "cell_type": "code",
   "execution_count": 34,
   "id": "680bd9bb",
   "metadata": {},
   "outputs": [],
   "source": [
    "params = [f\"!parameter p{i} : unit.\" for i in range(NPlayers)]"
   ]
  },
  {
   "cell_type": "code",
   "execution_count": 35,
   "id": "cfb7f280",
   "metadata": {},
   "outputs": [],
   "source": [
    "PROG = \"\"\"\n",
    "atbat(P, T; {hit, miss} <~ bernoulli[PARAM]) <- player(P, PARAM), time(T).\n",
    "\"\"\""
   ]
  },
  {
   "cell_type": "code",
   "execution_count": 36,
   "id": "fa0c3f1b",
   "metadata": {},
   "outputs": [],
   "source": [
    "SOURCE = \"\\n\".join(params + domains) + PROG"
   ]
  },
  {
   "cell_type": "code",
   "execution_count": 39,
   "id": "9c8eba85",
   "metadata": {},
   "outputs": [],
   "source": [
    "program, _ = loads(SOURCE)"
   ]
  },
  {
   "cell_type": "code",
   "execution_count": 46,
   "id": "8b4da5dd",
   "metadata": {},
   "outputs": [],
   "source": [
    "optimizer = Optimizer(program, learning_rate=1e-2, samples=7, force=True, cache=False)"
   ]
  },
  {
   "cell_type": "code",
   "execution_count": null,
   "id": "11aaaeda",
   "metadata": {},
   "outputs": [],
   "source": [
    "for batch in minibatch(observations, len(observations), epochs=20):\n",
    "    optimizer.maximize(*embedder.embed_all(batch.data))\n",
    "    print(optimizer.optimize().item())"
   ]
  },
  {
   "cell_type": "code",
   "execution_count": 48,
   "id": "56660a27",
   "metadata": {},
   "outputs": [
    {
     "data": {
      "text/plain": [
       "tensor([-0.7555, -0.4599, -0.2216])"
      ]
     },
     "execution_count": 48,
     "metadata": {},
     "output_type": "execute_result"
    }
   ],
   "source": [
    "phi - torch.tensor([program.parameter(f\"p{n}\") for n in range(NPlayers)])"
   ]
  },
  {
   "cell_type": "markdown",
   "id": "e3402216",
   "metadata": {},
   "source": [
    "## Fully Pooled"
   ]
  },
  {
   "cell_type": "markdown",
   "id": "ecdebbf0",
   "metadata": {},
   "source": [
    "### Generative Process"
   ]
  },
  {
   "cell_type": "code",
   "execution_count": 45,
   "id": "c5ba820a",
   "metadata": {},
   "outputs": [],
   "source": [
    "def fully_pooled():\n",
    "    phi = 0.2\n",
    "    observations = []\n",
    "    players = []\n",
    "    times = []\n",
    "    num_players = at_bats.shape[0]\n",
    "    max_times = 0\n",
    "    for player in range(NPlayers):\n",
    "        players.append(f\"player(player{player}).\")\n",
    "        for time in range(at_bats[player].item()):\n",
    "            max_times = max(max_times, time)\n",
    "            result = [\"hit\", \"miss\"][dist.Bernoulli(phi).sample().long()]\n",
    "            observations.append(f\"atbat(player{player}, time{time}, {result})\")\n",
    "    for time in range(max_times + 1):\n",
    "        times.append(f\"time(time{time}).\")\n",
    "    return observations, players + times\n",
    "        "
   ]
  },
  {
   "cell_type": "code",
   "execution_count": 46,
   "id": "d7967bb0",
   "metadata": {},
   "outputs": [],
   "source": [
    "observations, domains = fully_pooled()"
   ]
  },
  {
   "cell_type": "markdown",
   "id": "967d2b5f",
   "metadata": {},
   "source": [
    "### Sherlog Program"
   ]
  },
  {
   "cell_type": "code",
   "execution_count": 47,
   "id": "3949a4e0",
   "metadata": {},
   "outputs": [],
   "source": [
    "SOURCE = \\\n",
    "\"\"\"\n",
    "!parameter p : unit.\n",
    "atbat(P, T; {hit, miss} <~ bernoulli[p]) <- player(P), time(T).\n",
    "\"\"\""
   ]
  },
  {
   "cell_type": "code",
   "execution_count": 48,
   "id": "49e16a0a",
   "metadata": {},
   "outputs": [],
   "source": [
    "all_source = SOURCE + \"\\n\".join(domains)"
   ]
  },
  {
   "cell_type": "code",
   "execution_count": 50,
   "id": "18483b6d",
   "metadata": {},
   "outputs": [],
   "source": [
    "program, _ = loads(all_source)"
   ]
  },
  {
   "cell_type": "code",
   "execution_count": 51,
   "id": "ba6f1388",
   "metadata": {},
   "outputs": [],
   "source": [
    "optimizer = Optimizer(program, learning_rate=1e-2, samples=10, force=True, cache=False)"
   ]
  },
  {
   "cell_type": "code",
   "execution_count": 52,
   "id": "c9e81541",
   "metadata": {},
   "outputs": [],
   "source": [
    "optimizer.maximize(*embedder.embed_all(observations))"
   ]
  },
  {
   "cell_type": "code",
   "execution_count": 53,
   "id": "241aa07e",
   "metadata": {},
   "outputs": [
    {
     "data": {
      "text/plain": [
       "tensor(1.3863, grad_fn=<SumBackward0>)"
      ]
     },
     "execution_count": 53,
     "metadata": {},
     "output_type": "execute_result"
    }
   ],
   "source": [
    "optimizer.optimize()"
   ]
  },
  {
   "cell_type": "code",
   "execution_count": null,
   "id": "de79d77a",
   "metadata": {},
   "outputs": [],
   "source": [
    "for batch in minibatch(observations, 10, epochs=10):\n",
    "    optimizer.maximize(*embedder.embed_all(batch.data))\n",
    "    print(optimizer.optimize().item())"
   ]
  }
 ],
 "metadata": {
  "kernelspec": {
   "display_name": "Python 3 (ipykernel)",
   "language": "python",
   "name": "python3"
  },
  "language_info": {
   "codemirror_mode": {
    "name": "ipython",
    "version": 3
   },
   "file_extension": ".py",
   "mimetype": "text/x-python",
   "name": "python",
   "nbconvert_exporter": "python",
   "pygments_lexer": "ipython3",
   "version": "3.9.5"
  }
 },
 "nbformat": 4,
 "nbformat_minor": 5
}
