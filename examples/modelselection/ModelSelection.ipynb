{
 "cells": [
  {
   "cell_type": "code",
   "execution_count": 1,
   "id": "b1b5d15c",
   "metadata": {},
   "outputs": [],
   "source": [
    "import torch\n",
    "import pyro\n",
    "import pyro.distributions as dist\n",
    "import pdb"
   ]
  },
  {
   "cell_type": "code",
   "execution_count": 2,
   "id": "273c708f",
   "metadata": {},
   "outputs": [],
   "source": [
    "from sherlog.program import loads\n",
    "from sherlog.inference import minibatch, FunctionalEmbedding, Optimizer\n",
    "from sherlog.interface import print, initialize, minotaur"
   ]
  },
  {
   "cell_type": "code",
   "execution_count": 3,
   "id": "2911b798",
   "metadata": {},
   "outputs": [],
   "source": [
    "initialize(port=8006, instrumentation=None)"
   ]
  },
  {
   "cell_type": "code",
   "execution_count": 39,
   "id": "8894b20d",
   "metadata": {},
   "outputs": [],
   "source": [
    "embedder = FunctionalEmbedding(evidence=lambda s: s)"
   ]
  },
  {
   "cell_type": "code",
   "execution_count": 45,
   "id": "f5216bd6",
   "metadata": {},
   "outputs": [],
   "source": [
    "def model():\n",
    "    p = 0.1\n",
    "    data = []\n",
    "    treatmentDist = dist.Normal(90., 6.)\n",
    "    controlDist = dist.Normal(75., 3.)\n",
    "    obs = []\n",
    "    for i in range(1):\n",
    "        treatment = [\"control\", \"treatment\"][i] # [dist.Bernoulli(0.5).sample().long()]\n",
    "        data.append(f\"treatmentGroup({i}, {treatment}).\")\n",
    "        if treatment:\n",
    "            obs.append(f\"ageOfDeath({treatmentDist.sample():.2f})\")\n",
    "        else:\n",
    "            obs.append(f\"ageOfDeath({controlDist.sample():.2f})\")\n",
    "    return data, obs"
   ]
  },
  {
   "cell_type": "code",
   "execution_count": 46,
   "id": "2582db06",
   "metadata": {},
   "outputs": [],
   "source": [
    "data, obs = model()"
   ]
  },
  {
   "cell_type": "code",
   "execution_count": 47,
   "id": "215c331d",
   "metadata": {},
   "outputs": [
    {
     "data": {
      "text/plain": [
       "['treatmentGroup(0, control).']"
      ]
     },
     "execution_count": 47,
     "metadata": {},
     "output_type": "execute_result"
    }
   ],
   "source": [
    "data"
   ]
  },
  {
   "cell_type": "code",
   "execution_count": 48,
   "id": "de9c6dc3",
   "metadata": {},
   "outputs": [
    {
     "data": {
      "text/plain": [
       "['ageOfDeath(79.97)']"
      ]
     },
     "execution_count": 48,
     "metadata": {},
     "output_type": "execute_result"
    }
   ],
   "source": [
    "obs"
   ]
  },
  {
   "cell_type": "code",
   "execution_count": 55,
   "id": "725507b0",
   "metadata": {},
   "outputs": [],
   "source": [
    "SOURCE = \\\n",
    "\"\"\"\n",
    "!parameter mu_effective : real.\n",
    "!parameter sigma_effective : positive.\n",
    "!parameter mu_control : real.\n",
    "!parameter sigma_control : positive.\n",
    "!parameter p : unit.\n",
    "\n",
    "observe(;normal[mu_effective, sigma_effective]).\n",
    "\"\"\""
   ]
  },
  {
   "cell_type": "code",
   "execution_count": 56,
   "id": "088e3cd0",
   "metadata": {},
   "outputs": [],
   "source": [
    "obs = [f\"observe({torch.randn(1).item()*6 + 90:.2f})\"]"
   ]
  },
  {
   "cell_type": "markdown",
   "id": "9a6b229d",
   "metadata": {
    "heading_collapsed": true
   },
   "source": [
    "## Old Stuff"
   ]
  },
  {
   "cell_type": "code",
   "execution_count": 5,
   "id": "2bb30756",
   "metadata": {
    "hidden": true
   },
   "outputs": [],
   "source": [
    "def model():\n",
    "    p = 0.1\n",
    "    data = []\n",
    "    treatmentDist = dist.Normal(90., 6.)\n",
    "    controlDist = dist.Normal(75., 3.)\n",
    "    obs = []\n",
    "    for i in range(1):\n",
    "        treatment = [\"control\", \"treatment\"][i] # [dist.Bernoulli(0.5).sample().long()]\n",
    "#         data.append(f\"treatmentGroup({i}, {treatment}).\")\n",
    "        if treatment:\n",
    "            obs.append(f\"ageOfDeath({treatmentDist.sample():.2f})\")\n",
    "        else:\n",
    "            obs.append(f\"ageOfDeath({controlDist.sample():.2f})\")\n",
    "    return data, obs"
   ]
  },
  {
   "cell_type": "code",
   "execution_count": 6,
   "id": "0fb07634",
   "metadata": {
    "hidden": true
   },
   "outputs": [],
   "source": [
    "data, obs = model()"
   ]
  },
  {
   "cell_type": "code",
   "execution_count": 7,
   "id": "f42b3f58",
   "metadata": {
    "hidden": true
   },
   "outputs": [
    {
     "data": {
      "text/plain": [
       "[]"
      ]
     },
     "execution_count": 7,
     "metadata": {},
     "output_type": "execute_result"
    }
   ],
   "source": [
    "data"
   ]
  },
  {
   "cell_type": "code",
   "execution_count": 8,
   "id": "8dd9360a",
   "metadata": {
    "hidden": true
   },
   "outputs": [
    {
     "data": {
      "text/plain": [
       "['ageOfDeath(91.36)']"
      ]
     },
     "execution_count": 8,
     "metadata": {},
     "output_type": "execute_result"
    }
   ],
   "source": [
    "obs"
   ]
  },
  {
   "cell_type": "code",
   "execution_count": 70,
   "id": "827dde0e",
   "metadata": {
    "hidden": true
   },
   "outputs": [],
   "source": [
    "# <- treatmentGroup(P, control).\n",
    "# ageOfDeath(P; normal[mu_control, sigma_control]) <- treatmentGroup(P, treatment), effective(no).\n",
    "# ageOfDeath(P; normal[mu_effective, sigma_effective]) <- treatmentGroup(P, treatment), effective(yes)."
   ]
  },
  {
   "cell_type": "code",
   "execution_count": 21,
   "id": "ac23ed9c",
   "metadata": {
    "hidden": true
   },
   "outputs": [],
   "source": [
    "PROG = \\\n",
    "\"\"\"\n",
    "!parameter mu_effective : real.\n",
    "!parameter sigma_effective : positive.\n",
    "!parameter mu_control : real.\n",
    "!parameter sigma_control : positive.\n",
    "!parameter p : unit.\n",
    "\n",
    "effective(; {no, yes} <~ bernoulli[p]).\n",
    "\n",
    "ageOfDeath(P; normal[mu_control, sigma_control]) <- treatmentGroup(P, _).\n",
    "\"\"\""
   ]
  },
  {
   "cell_type": "code",
   "execution_count": 9,
   "id": "79ce8ed3",
   "metadata": {
    "hidden": true
   },
   "outputs": [],
   "source": [
    "PROG = \\\n",
    "\"\"\"\n",
    "!parameter mu_effective : real.\n",
    "!parameter sigma_effective : positive.\n",
    "!parameter mu_control : real.\n",
    "!parameter sigma_control : positive.\n",
    "!parameter p : unit.\n",
    "\n",
    "ageOfDeath(; normal[mu_control, sigma_control]).\n",
    "\"\"\""
   ]
  },
  {
   "cell_type": "code",
   "execution_count": 10,
   "id": "705724b2",
   "metadata": {
    "hidden": true
   },
   "outputs": [],
   "source": [
    "SOURCE = \"\\n\".join(data) + PROG"
   ]
  },
  {
   "cell_type": "code",
   "execution_count": 11,
   "id": "6959338a",
   "metadata": {
    "hidden": true
   },
   "outputs": [
    {
     "data": {
      "text/html": [
       "<pre style=\"white-space:pre;overflow-x:auto;line-height:normal;font-family:Menlo,'DejaVu Sans Mono',consolas,'Courier New',monospace\">\n",
       "!parameter mu_effective : real.\n",
       "!parameter sigma_effective : positive.\n",
       "!parameter mu_control : real.\n",
       "!parameter sigma_control : positive.\n",
       "!parameter p : unit.\n",
       "\n",
       "<span style=\"color: #800080; text-decoration-color: #800080; font-weight: bold\">ageOfDeath</span><span style=\"font-weight: bold\">(</span>; normal<span style=\"font-weight: bold\">[</span>mu_control, sigma_control<span style=\"font-weight: bold\">])</span>.\n",
       "\n",
       "</pre>\n"
      ],
      "text/plain": [
       "\n",
       "!parameter mu_effective : real.\n",
       "!parameter sigma_effective : positive.\n",
       "!parameter mu_control : real.\n",
       "!parameter sigma_control : positive.\n",
       "!parameter p : unit.\n",
       "\n",
       "\u001b[1;35mageOfDeath\u001b[0m\u001b[1m(\u001b[0m; normal\u001b[1m[\u001b[0mmu_control, sigma_control\u001b[1m]\u001b[0m\u001b[1m)\u001b[0m.\n",
       "\n"
      ]
     },
     "metadata": {},
     "output_type": "display_data"
    }
   ],
   "source": [
    "print(SOURCE)"
   ]
  },
  {
   "cell_type": "markdown",
   "id": "e9716158",
   "metadata": {},
   "source": [
    "## Testing"
   ]
  },
  {
   "cell_type": "code",
   "execution_count": 58,
   "id": "b05a0191",
   "metadata": {},
   "outputs": [],
   "source": [
    "program, _ = loads(SOURCE)"
   ]
  },
  {
   "cell_type": "code",
   "execution_count": 59,
   "id": "303d82a6",
   "metadata": {},
   "outputs": [],
   "source": [
    "optimizer = Optimizer(program, learning_rate=1e-2, samples=10, force=True, cache=False)"
   ]
  },
  {
   "cell_type": "code",
   "execution_count": 66,
   "id": "ea38ea11",
   "metadata": {},
   "outputs": [],
   "source": [
    "thenormal = dist.Normal(0., 1)"
   ]
  },
  {
   "cell_type": "code",
   "execution_count": 68,
   "id": "ca3636fa",
   "metadata": {},
   "outputs": [
    {
     "data": {
      "text/plain": [
       "tensor(0.)"
      ]
     },
     "execution_count": 68,
     "metadata": {},
     "output_type": "execute_result"
    }
   ],
   "source": [
    "thenormal.log_prob(torch.tensor(80.)).exp()"
   ]
  },
  {
   "cell_type": "code",
   "execution_count": 60,
   "id": "52e7dac6",
   "metadata": {
    "scrolled": true
   },
   "outputs": [
    {
     "name": "stderr",
     "output_type": "stream",
     "text": [
      "Objective produced infinite result. [objective=Objective(evidence=<sherlog.program.evidence.Evidence object at 0x7fb92e3febe0>, conditional=None, parameters=None)]\n"
     ]
    }
   ],
   "source": [
    "optimizer.maximize(*embedder.embed_all(obs))"
   ]
  },
  {
   "cell_type": "code",
   "execution_count": null,
   "id": "619e2136",
   "metadata": {},
   "outputs": [],
   "source": [
    "for batch in minibatch(obs, 30, epochs=20):\n",
    "    optimizer.maximize(*embedder.embed_all(batch.data))\n",
    "    print(optimizer.optimize().item())"
   ]
  }
 ],
 "metadata": {
  "kernelspec": {
   "display_name": "Python 3 (ipykernel)",
   "language": "python",
   "name": "python3"
  },
  "language_info": {
   "codemirror_mode": {
    "name": "ipython",
    "version": 3
   },
   "file_extension": ".py",
   "mimetype": "text/x-python",
   "name": "python",
   "nbconvert_exporter": "python",
   "pygments_lexer": "ipython3",
   "version": "3.9.5"
  }
 },
 "nbformat": 4,
 "nbformat_minor": 5
}
