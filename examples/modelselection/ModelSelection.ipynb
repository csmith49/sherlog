{
 "cells": [
  {
   "cell_type": "code",
   "execution_count": 1,
   "id": "b1b5d15c",
   "metadata": {},
   "outputs": [],
   "source": [
    "import torch\n",
    "import pyro\n",
    "import pyro.distributions as dist\n",
    "import pdb"
   ]
  },
  {
   "cell_type": "code",
   "execution_count": 2,
   "id": "273c708f",
   "metadata": {},
   "outputs": [],
   "source": [
    "from sherlog.program import loads\n",
    "from sherlog.inference import minibatch, FunctionalEmbedding, Optimizer\n",
    "from sherlog.interface import print, initialize, minotaur"
   ]
  },
  {
   "cell_type": "code",
   "execution_count": 3,
   "id": "2911b798",
   "metadata": {},
   "outputs": [],
   "source": [
    "initialize(port=8006, instrumentation=None)"
   ]
  },
  {
   "cell_type": "code",
   "execution_count": 39,
   "id": "8894b20d",
   "metadata": {},
   "outputs": [],
   "source": [
    "embedder = FunctionalEmbedding(evidence=lambda s: s)"
   ]
  },
  {
   "cell_type": "code",
   "execution_count": 82,
   "id": "f5216bd6",
   "metadata": {},
   "outputs": [],
   "source": [
    "def model():\n",
    "    p = 0.1\n",
    "    data = []\n",
    "    treatmentDist = dist.Normal(1., 0.5)\n",
    "    controlDist = dist.Normal(0., 1.)\n",
    "    obs = []\n",
    "    for i in range(2):\n",
    "        treatment = [\"control\", \"treatment\"][i % 2]\n",
    "        data.append(f\"treatmentGroup({i}, {treatment}).\")\n",
    "        if treatment:\n",
    "            obs.append(f\"happiness({i}, {treatmentDist.sample():.2f})\")\n",
    "        else:\n",
    "            obs.append(f\"happiness({i}, {controlDist.sample():.2f})\")\n",
    "    return data, obs"
   ]
  },
  {
   "cell_type": "code",
   "execution_count": 83,
   "id": "2582db06",
   "metadata": {},
   "outputs": [],
   "source": [
    "data, obs = model()"
   ]
  },
  {
   "cell_type": "code",
   "execution_count": 97,
   "id": "725507b0",
   "metadata": {},
   "outputs": [],
   "source": [
    "PROG = \\\n",
    "\"\"\"\n",
    "!parameter mu_effective : real.\n",
    "!parameter sigma_effective : positive.\n",
    "!parameter mu_control : real.\n",
    "!parameter sigma_control : positive.\n",
    "!parameter p : unit.\n",
    "\n",
    "effective(; {no, yes} <~ bernoulli[p]).\n",
    "\n",
    "happiness(P; normal[mu_control, sigma_control]) <- treatmentGroup(P, treatment), effective(no).\n",
    "happiness(P; normal[mu_effective, sigma_effective]) <- treatmentGroup(P, treatment), effective(yes).\n",
    "happiness(P ;normal[mu_control, sigma_control]) <- treatmentGroup(P, control).\n",
    "\"\"\""
   ]
  },
  {
   "cell_type": "code",
   "execution_count": 98,
   "id": "fcb5f0b7",
   "metadata": {},
   "outputs": [],
   "source": [
    "SOURCE = \"\\n\".join(data) + PROG"
   ]
  },
  {
   "cell_type": "markdown",
   "id": "e9716158",
   "metadata": {},
   "source": [
    "## Testing"
   ]
  },
  {
   "cell_type": "code",
   "execution_count": 99,
   "id": "b05a0191",
   "metadata": {},
   "outputs": [],
   "source": [
    "program, _ = loads(SOURCE)"
   ]
  },
  {
   "cell_type": "code",
   "execution_count": 100,
   "id": "303d82a6",
   "metadata": {},
   "outputs": [],
   "source": [
    "optimizer = Optimizer(program, learning_rate=1e-2, samples=10, force=True, cache=False)"
   ]
  },
  {
   "cell_type": "code",
   "execution_count": 101,
   "id": "52e7dac6",
   "metadata": {
    "scrolled": true
   },
   "outputs": [],
   "source": [
    "optimizer.maximize(*embedder.embed_all(obs))"
   ]
  },
  {
   "cell_type": "code",
   "execution_count": 102,
   "id": "619e2136",
   "metadata": {},
   "outputs": [
    {
     "data": {
      "text/html": [
       "<pre style=\"white-space:pre;overflow-x:auto;line-height:normal;font-family:Menlo,'DejaVu Sans Mono',consolas,'Courier New',monospace\"><span style=\"color: #008080; text-decoration-color: #008080; font-weight: bold\">3.541459560394287</span>\n",
       "</pre>\n"
      ],
      "text/plain": [
       "\u001b[1;36m3.541459560394287\u001b[0m\n"
      ]
     },
     "metadata": {},
     "output_type": "display_data"
    },
    {
     "data": {
      "text/html": [
       "<pre style=\"white-space:pre;overflow-x:auto;line-height:normal;font-family:Menlo,'DejaVu Sans Mono',consolas,'Courier New',monospace\"><span style=\"color: #008080; text-decoration-color: #008080; font-weight: bold\">1.51557457447052</span>\n",
       "</pre>\n"
      ],
      "text/plain": [
       "\u001b[1;36m1.51557457447052\u001b[0m\n"
      ]
     },
     "metadata": {},
     "output_type": "display_data"
    },
    {
     "data": {
      "text/html": [
       "<pre style=\"white-space:pre;overflow-x:auto;line-height:normal;font-family:Menlo,'DejaVu Sans Mono',consolas,'Courier New',monospace\"><span style=\"color: #008080; text-decoration-color: #008080; font-weight: bold\">1.4281420707702637</span>\n",
       "</pre>\n"
      ],
      "text/plain": [
       "\u001b[1;36m1.4281420707702637\u001b[0m\n"
      ]
     },
     "metadata": {},
     "output_type": "display_data"
    },
    {
     "data": {
      "text/html": [
       "<pre style=\"white-space:pre;overflow-x:auto;line-height:normal;font-family:Menlo,'DejaVu Sans Mono',consolas,'Courier New',monospace\"><span style=\"color: #008080; text-decoration-color: #008080; font-weight: bold\">1.358367919921875</span>\n",
       "</pre>\n"
      ],
      "text/plain": [
       "\u001b[1;36m1.358367919921875\u001b[0m\n"
      ]
     },
     "metadata": {},
     "output_type": "display_data"
    },
    {
     "data": {
      "text/html": [
       "<pre style=\"white-space:pre;overflow-x:auto;line-height:normal;font-family:Menlo,'DejaVu Sans Mono',consolas,'Courier New',monospace\"><span style=\"color: #008080; text-decoration-color: #008080; font-weight: bold\">1.3017241954803467</span>\n",
       "</pre>\n"
      ],
      "text/plain": [
       "\u001b[1;36m1.3017241954803467\u001b[0m\n"
      ]
     },
     "metadata": {},
     "output_type": "display_data"
    },
    {
     "data": {
      "text/html": [
       "<pre style=\"white-space:pre;overflow-x:auto;line-height:normal;font-family:Menlo,'DejaVu Sans Mono',consolas,'Courier New',monospace\"><span style=\"color: #008080; text-decoration-color: #008080; font-weight: bold\">1.2540152072906494</span>\n",
       "</pre>\n"
      ],
      "text/plain": [
       "\u001b[1;36m1.2540152072906494\u001b[0m\n"
      ]
     },
     "metadata": {},
     "output_type": "display_data"
    },
    {
     "data": {
      "text/html": [
       "<pre style=\"white-space:pre;overflow-x:auto;line-height:normal;font-family:Menlo,'DejaVu Sans Mono',consolas,'Courier New',monospace\"><span style=\"color: #008080; text-decoration-color: #008080; font-weight: bold\">1.2122719287872314</span>\n",
       "</pre>\n"
      ],
      "text/plain": [
       "\u001b[1;36m1.2122719287872314\u001b[0m\n"
      ]
     },
     "metadata": {},
     "output_type": "display_data"
    },
    {
     "data": {
      "text/html": [
       "<pre style=\"white-space:pre;overflow-x:auto;line-height:normal;font-family:Menlo,'DejaVu Sans Mono',consolas,'Courier New',monospace\"><span style=\"color: #008080; text-decoration-color: #008080; font-weight: bold\">1.1747013330459595</span>\n",
       "</pre>\n"
      ],
      "text/plain": [
       "\u001b[1;36m1.1747013330459595\u001b[0m\n"
      ]
     },
     "metadata": {},
     "output_type": "display_data"
    },
    {
     "data": {
      "text/html": [
       "<pre style=\"white-space:pre;overflow-x:auto;line-height:normal;font-family:Menlo,'DejaVu Sans Mono',consolas,'Courier New',monospace\"><span style=\"color: #008080; text-decoration-color: #008080; font-weight: bold\">1.1402591466903687</span>\n",
       "</pre>\n"
      ],
      "text/plain": [
       "\u001b[1;36m1.1402591466903687\u001b[0m\n"
      ]
     },
     "metadata": {},
     "output_type": "display_data"
    },
    {
     "data": {
      "text/html": [
       "<pre style=\"white-space:pre;overflow-x:auto;line-height:normal;font-family:Menlo,'DejaVu Sans Mono',consolas,'Courier New',monospace\"><span style=\"color: #008080; text-decoration-color: #008080; font-weight: bold\">1.1083074808120728</span>\n",
       "</pre>\n"
      ],
      "text/plain": [
       "\u001b[1;36m1.1083074808120728\u001b[0m\n"
      ]
     },
     "metadata": {},
     "output_type": "display_data"
    },
    {
     "data": {
      "text/html": [
       "<pre style=\"white-space:pre;overflow-x:auto;line-height:normal;font-family:Menlo,'DejaVu Sans Mono',consolas,'Courier New',monospace\"><span style=\"color: #008080; text-decoration-color: #008080; font-weight: bold\">1.0784275531768799</span>\n",
       "</pre>\n"
      ],
      "text/plain": [
       "\u001b[1;36m1.0784275531768799\u001b[0m\n"
      ]
     },
     "metadata": {},
     "output_type": "display_data"
    },
    {
     "data": {
      "text/html": [
       "<pre style=\"white-space:pre;overflow-x:auto;line-height:normal;font-family:Menlo,'DejaVu Sans Mono',consolas,'Courier New',monospace\"><span style=\"color: #008080; text-decoration-color: #008080; font-weight: bold\">1.0503206253051758</span>\n",
       "</pre>\n"
      ],
      "text/plain": [
       "\u001b[1;36m1.0503206253051758\u001b[0m\n"
      ]
     },
     "metadata": {},
     "output_type": "display_data"
    },
    {
     "data": {
      "text/html": [
       "<pre style=\"white-space:pre;overflow-x:auto;line-height:normal;font-family:Menlo,'DejaVu Sans Mono',consolas,'Courier New',monospace\"><span style=\"color: #008080; text-decoration-color: #008080; font-weight: bold\">1.0237648487091064</span>\n",
       "</pre>\n"
      ],
      "text/plain": [
       "\u001b[1;36m1.0237648487091064\u001b[0m\n"
      ]
     },
     "metadata": {},
     "output_type": "display_data"
    },
    {
     "data": {
      "text/html": [
       "<pre style=\"white-space:pre;overflow-x:auto;line-height:normal;font-family:Menlo,'DejaVu Sans Mono',consolas,'Courier New',monospace\"><span style=\"color: #008080; text-decoration-color: #008080; font-weight: bold\">0.9985830187797546</span>\n",
       "</pre>\n"
      ],
      "text/plain": [
       "\u001b[1;36m0.9985830187797546\u001b[0m\n"
      ]
     },
     "metadata": {},
     "output_type": "display_data"
    },
    {
     "data": {
      "text/html": [
       "<pre style=\"white-space:pre;overflow-x:auto;line-height:normal;font-family:Menlo,'DejaVu Sans Mono',consolas,'Courier New',monospace\"><span style=\"color: #008080; text-decoration-color: #008080; font-weight: bold\">0.9746328592300415</span>\n",
       "</pre>\n"
      ],
      "text/plain": [
       "\u001b[1;36m0.9746328592300415\u001b[0m\n"
      ]
     },
     "metadata": {},
     "output_type": "display_data"
    },
    {
     "data": {
      "text/html": [
       "<pre style=\"white-space:pre;overflow-x:auto;line-height:normal;font-family:Menlo,'DejaVu Sans Mono',consolas,'Courier New',monospace\"><span style=\"color: #008080; text-decoration-color: #008080; font-weight: bold\">0.9517948627471924</span>\n",
       "</pre>\n"
      ],
      "text/plain": [
       "\u001b[1;36m0.9517948627471924\u001b[0m\n"
      ]
     },
     "metadata": {},
     "output_type": "display_data"
    },
    {
     "data": {
      "text/html": [
       "<pre style=\"white-space:pre;overflow-x:auto;line-height:normal;font-family:Menlo,'DejaVu Sans Mono',consolas,'Courier New',monospace\"><span style=\"color: #008080; text-decoration-color: #008080; font-weight: bold\">0.9299686551094055</span>\n",
       "</pre>\n"
      ],
      "text/plain": [
       "\u001b[1;36m0.9299686551094055\u001b[0m\n"
      ]
     },
     "metadata": {},
     "output_type": "display_data"
    },
    {
     "data": {
      "text/html": [
       "<pre style=\"white-space:pre;overflow-x:auto;line-height:normal;font-family:Menlo,'DejaVu Sans Mono',consolas,'Courier New',monospace\"><span style=\"color: #008080; text-decoration-color: #008080; font-weight: bold\">0.9090662002563477</span>\n",
       "</pre>\n"
      ],
      "text/plain": [
       "\u001b[1;36m0.9090662002563477\u001b[0m\n"
      ]
     },
     "metadata": {},
     "output_type": "display_data"
    },
    {
     "data": {
      "text/html": [
       "<pre style=\"white-space:pre;overflow-x:auto;line-height:normal;font-family:Menlo,'DejaVu Sans Mono',consolas,'Courier New',monospace\"><span style=\"color: #008080; text-decoration-color: #008080; font-weight: bold\">0.9027102589607239</span>\n",
       "</pre>\n"
      ],
      "text/plain": [
       "\u001b[1;36m0.9027102589607239\u001b[0m\n"
      ]
     },
     "metadata": {},
     "output_type": "display_data"
    },
    {
     "data": {
      "text/html": [
       "<pre style=\"white-space:pre;overflow-x:auto;line-height:normal;font-family:Menlo,'DejaVu Sans Mono',consolas,'Courier New',monospace\"><span style=\"color: #008080; text-decoration-color: #008080; font-weight: bold\">0.9027093648910522</span>\n",
       "</pre>\n"
      ],
      "text/plain": [
       "\u001b[1;36m0.9027093648910522\u001b[0m\n"
      ]
     },
     "metadata": {},
     "output_type": "display_data"
    }
   ],
   "source": [
    "for batch in minibatch(obs, 30, epochs=20):\n",
    "    optimizer.maximize(*embedder.embed_all(batch.data))\n",
    "    print(optimizer.optimize().item())"
   ]
  }
 ],
 "metadata": {
  "kernelspec": {
   "display_name": "Python 3 (ipykernel)",
   "language": "python",
   "name": "python3"
  },
  "language_info": {
   "codemirror_mode": {
    "name": "ipython",
    "version": 3
   },
   "file_extension": ".py",
   "mimetype": "text/x-python",
   "name": "python",
   "nbconvert_exporter": "python",
   "pygments_lexer": "ipython3",
   "version": "3.9.5"
  }
 },
 "nbformat": 4,
 "nbformat_minor": 5
}
