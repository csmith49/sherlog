{
 "cells": [
  {
   "cell_type": "code",
   "execution_count": 1,
   "id": "b1b5d15c",
   "metadata": {},
   "outputs": [],
   "source": [
    "import torch\n",
    "import pyro\n",
    "import pyro.distributions as dist\n",
    "import pdb"
   ]
  },
  {
   "cell_type": "code",
   "execution_count": 2,
   "id": "273c708f",
   "metadata": {},
   "outputs": [],
   "source": [
    "from sherlog.program import loads\n",
    "from sherlog.inference import minibatch, FunctionalEmbedding, Optimizer\n",
    "from sherlog.interface import print, initialize, minotaur"
   ]
  },
  {
   "cell_type": "code",
   "execution_count": 3,
   "id": "2911b798",
   "metadata": {},
   "outputs": [],
   "source": [
    "initialize(port=8001, instrumentation=None)"
   ]
  },
  {
   "cell_type": "code",
   "execution_count": 4,
   "id": "8894b20d",
   "metadata": {},
   "outputs": [],
   "source": [
    "embedder = FunctionalEmbedding(evidence=lambda s: s)"
   ]
  },
  {
   "cell_type": "code",
   "execution_count": 5,
   "id": "2bb30756",
   "metadata": {},
   "outputs": [],
   "source": [
    "def model():\n",
    "    p = 0.1\n",
    "    data = []\n",
    "    treatmentDist = dist.Normal(90., 6.)\n",
    "    controlDist = dist.Normal(75., 3.)\n",
    "    obs = []\n",
    "    for i in range(2):\n",
    "        treatment = dist.Bernoulli(0.5).sample().long()\n",
    "        data.append(f\"treatmentGroup({i}, {treatment}).\")\n",
    "        if treatment:\n",
    "            obs.append(f\"ageOfDeath({i}, {treatmentDist.sample()})\")\n",
    "        else:\n",
    "            obs.append(f\"ageOfDeath({i}, {controlDist.sample()})\")\n",
    "    return data, obs"
   ]
  },
  {
   "cell_type": "code",
   "execution_count": 6,
   "id": "0fb07634",
   "metadata": {},
   "outputs": [],
   "source": [
    "data, obs = model()"
   ]
  },
  {
   "cell_type": "code",
   "execution_count": 7,
   "id": "8dd9360a",
   "metadata": {},
   "outputs": [
    {
     "data": {
      "text/plain": [
       "['ageOfDeath(0, 90.7716293334961)', 'ageOfDeath(1, 76.48066711425781)']"
      ]
     },
     "execution_count": 7,
     "metadata": {},
     "output_type": "execute_result"
    }
   ],
   "source": [
    "obs"
   ]
  },
  {
   "cell_type": "code",
   "execution_count": 8,
   "id": "ac23ed9c",
   "metadata": {},
   "outputs": [],
   "source": [
    "PROG = \\\n",
    "\"\"\"\n",
    "!parameter mu_effective : real.\n",
    "!parameter sigma_effective : positive.\n",
    "!parameter mu_control : real.\n",
    "!parameter sigma_control : positive.\n",
    "!parameter p : unit.\n",
    "effective(; bernoulli[p]).\n",
    "gotTreatment(P, 1) <- treatmentGroup(P, 1), effective(1).\n",
    "gotTreatment(P, 0) <- treatmentGroup(P, 1), effective(0).\n",
    "gotTreatment(P, 0) <- treatmentGroup(P, 0), effective(0).\n",
    "gotTreatment(P, 0) <- treatmentGroup(P, 0), effective(1).\n",
    "ageOfDeath(P; normal[mu_effective, sigma_effective]) <- gotTreatment(P,1).\n",
    "ageOfDeath(P; normal[mu_control, sigma_control]) <- gotTreatment(P,0).\n",
    "\"\"\""
   ]
  },
  {
   "cell_type": "code",
   "execution_count": 9,
   "id": "705724b2",
   "metadata": {},
   "outputs": [],
   "source": [
    "SOURCE = \"\\n\".join(data) + PROG"
   ]
  },
  {
   "cell_type": "code",
   "execution_count": 10,
   "id": "6959338a",
   "metadata": {},
   "outputs": [
    {
     "data": {
      "text/html": [
       "<pre style=\"white-space:pre;overflow-x:auto;line-height:normal;font-family:Menlo,'DejaVu Sans Mono',consolas,'Courier New',monospace\"><span style=\"color: #800080; text-decoration-color: #800080; font-weight: bold\">treatmentGroup</span><span style=\"font-weight: bold\">(</span><span style=\"color: #008080; text-decoration-color: #008080; font-weight: bold\">0</span>, <span style=\"color: #008080; text-decoration-color: #008080; font-weight: bold\">1</span><span style=\"font-weight: bold\">)</span>.\n",
       "<span style=\"color: #800080; text-decoration-color: #800080; font-weight: bold\">treatmentGroup</span><span style=\"font-weight: bold\">(</span><span style=\"color: #008080; text-decoration-color: #008080; font-weight: bold\">1</span>, <span style=\"color: #008080; text-decoration-color: #008080; font-weight: bold\">0</span><span style=\"font-weight: bold\">)</span>.\n",
       "!parameter mu_effective : real.\n",
       "!parameter sigma_effective : positive.\n",
       "!parameter mu_control : real.\n",
       "!parameter sigma_control : positive.\n",
       "!parameter p : unit.\n",
       "<span style=\"color: #800080; text-decoration-color: #800080; font-weight: bold\">effective</span><span style=\"font-weight: bold\">(</span>; bernoulli<span style=\"font-weight: bold\">[</span>p<span style=\"font-weight: bold\">])</span>.\n",
       "<span style=\"color: #800080; text-decoration-color: #800080; font-weight: bold\">gotTreatment</span><span style=\"font-weight: bold\">(</span>P, <span style=\"color: #008080; text-decoration-color: #008080; font-weight: bold\">1</span><span style=\"font-weight: bold\">)</span> &lt;- <span style=\"color: #800080; text-decoration-color: #800080; font-weight: bold\">treatmentGroup</span><span style=\"font-weight: bold\">(</span>P, <span style=\"color: #008080; text-decoration-color: #008080; font-weight: bold\">1</span><span style=\"font-weight: bold\">)</span>, <span style=\"color: #800080; text-decoration-color: #800080; font-weight: bold\">effective</span><span style=\"font-weight: bold\">(</span><span style=\"color: #008080; text-decoration-color: #008080; font-weight: bold\">1</span><span style=\"font-weight: bold\">)</span>.\n",
       "<span style=\"color: #800080; text-decoration-color: #800080; font-weight: bold\">gotTreatment</span><span style=\"font-weight: bold\">(</span>P, <span style=\"color: #008080; text-decoration-color: #008080; font-weight: bold\">0</span><span style=\"font-weight: bold\">)</span> &lt;- <span style=\"color: #800080; text-decoration-color: #800080; font-weight: bold\">treatmentGroup</span><span style=\"font-weight: bold\">(</span>P, <span style=\"color: #008080; text-decoration-color: #008080; font-weight: bold\">1</span><span style=\"font-weight: bold\">)</span>, <span style=\"color: #800080; text-decoration-color: #800080; font-weight: bold\">effective</span><span style=\"font-weight: bold\">(</span><span style=\"color: #008080; text-decoration-color: #008080; font-weight: bold\">0</span><span style=\"font-weight: bold\">)</span>.\n",
       "<span style=\"color: #800080; text-decoration-color: #800080; font-weight: bold\">gotTreatment</span><span style=\"font-weight: bold\">(</span>P, <span style=\"color: #008080; text-decoration-color: #008080; font-weight: bold\">0</span><span style=\"font-weight: bold\">)</span> &lt;- <span style=\"color: #800080; text-decoration-color: #800080; font-weight: bold\">treatmentGroup</span><span style=\"font-weight: bold\">(</span>P, <span style=\"color: #008080; text-decoration-color: #008080; font-weight: bold\">0</span><span style=\"font-weight: bold\">)</span>, <span style=\"color: #800080; text-decoration-color: #800080; font-weight: bold\">effective</span><span style=\"font-weight: bold\">(</span><span style=\"color: #008080; text-decoration-color: #008080; font-weight: bold\">0</span><span style=\"font-weight: bold\">)</span>.\n",
       "<span style=\"color: #800080; text-decoration-color: #800080; font-weight: bold\">gotTreatment</span><span style=\"font-weight: bold\">(</span>P, <span style=\"color: #008080; text-decoration-color: #008080; font-weight: bold\">0</span><span style=\"font-weight: bold\">)</span> &lt;- <span style=\"color: #800080; text-decoration-color: #800080; font-weight: bold\">treatmentGroup</span><span style=\"font-weight: bold\">(</span>P, <span style=\"color: #008080; text-decoration-color: #008080; font-weight: bold\">0</span><span style=\"font-weight: bold\">)</span>, <span style=\"color: #800080; text-decoration-color: #800080; font-weight: bold\">effective</span><span style=\"font-weight: bold\">(</span><span style=\"color: #008080; text-decoration-color: #008080; font-weight: bold\">1</span><span style=\"font-weight: bold\">)</span>.\n",
       "<span style=\"color: #800080; text-decoration-color: #800080; font-weight: bold\">ageOfDeath</span><span style=\"font-weight: bold\">(</span>P; normal<span style=\"font-weight: bold\">[</span>mu_effective, sigma_effective<span style=\"font-weight: bold\">])</span> &lt;- <span style=\"color: #800080; text-decoration-color: #800080; font-weight: bold\">gotTreatment</span><span style=\"font-weight: bold\">(</span>P,<span style=\"color: #008080; text-decoration-color: #008080; font-weight: bold\">1</span><span style=\"font-weight: bold\">)</span>.\n",
       "<span style=\"color: #800080; text-decoration-color: #800080; font-weight: bold\">ageOfDeath</span><span style=\"font-weight: bold\">(</span>P; normal<span style=\"font-weight: bold\">[</span>mu_control, sigma_control<span style=\"font-weight: bold\">])</span> &lt;- <span style=\"color: #800080; text-decoration-color: #800080; font-weight: bold\">gotTreatment</span><span style=\"font-weight: bold\">(</span>P,<span style=\"color: #008080; text-decoration-color: #008080; font-weight: bold\">0</span><span style=\"font-weight: bold\">)</span>.\n",
       "\n",
       "</pre>\n"
      ],
      "text/plain": [
       "\u001b[1;35mtreatmentGroup\u001b[0m\u001b[1m(\u001b[0m\u001b[1;36m0\u001b[0m, \u001b[1;36m1\u001b[0m\u001b[1m)\u001b[0m.\n",
       "\u001b[1;35mtreatmentGroup\u001b[0m\u001b[1m(\u001b[0m\u001b[1;36m1\u001b[0m, \u001b[1;36m0\u001b[0m\u001b[1m)\u001b[0m.\n",
       "!parameter mu_effective : real.\n",
       "!parameter sigma_effective : positive.\n",
       "!parameter mu_control : real.\n",
       "!parameter sigma_control : positive.\n",
       "!parameter p : unit.\n",
       "\u001b[1;35meffective\u001b[0m\u001b[1m(\u001b[0m; bernoulli\u001b[1m[\u001b[0mp\u001b[1m]\u001b[0m\u001b[1m)\u001b[0m.\n",
       "\u001b[1;35mgotTreatment\u001b[0m\u001b[1m(\u001b[0mP, \u001b[1;36m1\u001b[0m\u001b[1m)\u001b[0m <- \u001b[1;35mtreatmentGroup\u001b[0m\u001b[1m(\u001b[0mP, \u001b[1;36m1\u001b[0m\u001b[1m)\u001b[0m, \u001b[1;35meffective\u001b[0m\u001b[1m(\u001b[0m\u001b[1;36m1\u001b[0m\u001b[1m)\u001b[0m.\n",
       "\u001b[1;35mgotTreatment\u001b[0m\u001b[1m(\u001b[0mP, \u001b[1;36m0\u001b[0m\u001b[1m)\u001b[0m <- \u001b[1;35mtreatmentGroup\u001b[0m\u001b[1m(\u001b[0mP, \u001b[1;36m1\u001b[0m\u001b[1m)\u001b[0m, \u001b[1;35meffective\u001b[0m\u001b[1m(\u001b[0m\u001b[1;36m0\u001b[0m\u001b[1m)\u001b[0m.\n",
       "\u001b[1;35mgotTreatment\u001b[0m\u001b[1m(\u001b[0mP, \u001b[1;36m0\u001b[0m\u001b[1m)\u001b[0m <- \u001b[1;35mtreatmentGroup\u001b[0m\u001b[1m(\u001b[0mP, \u001b[1;36m0\u001b[0m\u001b[1m)\u001b[0m, \u001b[1;35meffective\u001b[0m\u001b[1m(\u001b[0m\u001b[1;36m0\u001b[0m\u001b[1m)\u001b[0m.\n",
       "\u001b[1;35mgotTreatment\u001b[0m\u001b[1m(\u001b[0mP, \u001b[1;36m0\u001b[0m\u001b[1m)\u001b[0m <- \u001b[1;35mtreatmentGroup\u001b[0m\u001b[1m(\u001b[0mP, \u001b[1;36m0\u001b[0m\u001b[1m)\u001b[0m, \u001b[1;35meffective\u001b[0m\u001b[1m(\u001b[0m\u001b[1;36m1\u001b[0m\u001b[1m)\u001b[0m.\n",
       "\u001b[1;35mageOfDeath\u001b[0m\u001b[1m(\u001b[0mP; normal\u001b[1m[\u001b[0mmu_effective, sigma_effective\u001b[1m]\u001b[0m\u001b[1m)\u001b[0m <- \u001b[1;35mgotTreatment\u001b[0m\u001b[1m(\u001b[0mP,\u001b[1;36m1\u001b[0m\u001b[1m)\u001b[0m.\n",
       "\u001b[1;35mageOfDeath\u001b[0m\u001b[1m(\u001b[0mP; normal\u001b[1m[\u001b[0mmu_control, sigma_control\u001b[1m]\u001b[0m\u001b[1m)\u001b[0m <- \u001b[1;35mgotTreatment\u001b[0m\u001b[1m(\u001b[0mP,\u001b[1;36m0\u001b[0m\u001b[1m)\u001b[0m.\n",
       "\n"
      ]
     },
     "metadata": {},
     "output_type": "display_data"
    }
   ],
   "source": [
    "print(SOURCE)"
   ]
  },
  {
   "cell_type": "code",
   "execution_count": 11,
   "id": "b05a0191",
   "metadata": {},
   "outputs": [],
   "source": [
    "program, _ = loads(SOURCE)"
   ]
  },
  {
   "cell_type": "code",
   "execution_count": 16,
   "id": "303d82a6",
   "metadata": {},
   "outputs": [],
   "source": [
    "optimizer = Optimizer(program, learning_rate=1e-2, samples=10, force=True, cache=False)"
   ]
  },
  {
   "cell_type": "code",
   "execution_count": 17,
   "id": "52e7dac6",
   "metadata": {
    "scrolled": true
   },
   "outputs": [
    {
     "name": "stderr",
     "output_type": "stream",
     "text": [
      "Objective produced infinite result. [objective=Objective(evidence=<sherlog.program.evidence.Evidence object at 0x7f6136690ac0>, conditional=None, parameters=None)]\n"
     ]
    }
   ],
   "source": [
    "optimizer.maximize(*embedder.embed_all(obs[0:1]))"
   ]
  },
  {
   "cell_type": "code",
   "execution_count": null,
   "id": "619e2136",
   "metadata": {},
   "outputs": [],
   "source": [
    "for batch in minibatch(obs, 30, epochs=20):\n",
    "    optimizer.maximize(*embedder.embed_all(batch.data))\n",
    "    print(optimizer.optimize().item())"
   ]
  }
 ],
 "metadata": {
  "kernelspec": {
   "display_name": "Python 3 (ipykernel)",
   "language": "python",
   "name": "python3"
  },
  "language_info": {
   "codemirror_mode": {
    "name": "ipython",
    "version": 3
   },
   "file_extension": ".py",
   "mimetype": "text/x-python",
   "name": "python",
   "nbconvert_exporter": "python",
   "pygments_lexer": "ipython3",
   "version": "3.9.7"
  }
 },
 "nbformat": 4,
 "nbformat_minor": 5
}
